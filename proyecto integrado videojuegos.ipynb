{
 "cells": [
  {
   "cell_type": "markdown",
   "metadata": {},
   "source": [
    "# ¡Hola Estela! 😊\n",
    "\n",
    "Mi nombre es **Alejandro Castellanos** y hoy tengo el placer de ser el revisor de tu proyecto.\n",
    "\n",
    "Voy a revisar todo tu código con detalle, buscando tanto los puntos fuertes como aquellos en los que podrías mejorar. Te dejaré comentarios a lo largo del notebook, destacando lo que has hecho bien y sugiriendo ajustes donde sea necesario. Si encuentro algún error, no te preocupes, te lo haré saber de forma clara y te daré información útil para que puedas corregirlo en la próxima. Si en algún punto tienes comentarios, siéntete libre de dejarlos también.\n",
    "\n",
    "\n",
    "Encontrarás mis comentarios específicos dentro de cajas verdes, amarillas o rojas, es muy importante que no muevas, modifiques o borres mis comentarios, con el fin de tener un seguimiento adecuado de tu proceso.:\n",
    "\n",
    "\n",
    "<div class=\"alert alert-block alert-success\">\n",
    "<b>Comentario del revisor</b> <a class=“tocSkip”></a>\n",
    "Si todo está perfecto.\n",
    "</div>\n",
    "\n",
    "<div class=\"alert alert-block alert-warning\">\n",
    "<b>Comentario del revisor</b> <a class=“tocSkip”></a>\n",
    "Si tu código está bien pero se puede mejorar o hay algún detalle que le hace falta.\n",
    "</div>\n",
    "\n",
    "<div class=\"alert alert-block alert-danger\">\n",
    "<b>Comentario del revisor</b> <a class=“tocSkip”></a>\n",
    "Si de pronto hace falta algo o existe algún problema con tu código o conclusiones.\n",
    "</div>\n",
    "\n",
    "Puedes responderme de esta forma:\n",
    "<div class=\"alert alert-block alert-info\">\n",
    "<b>Respuesta del estudiante</b> <a class=“tocSkip”></a>\n",
    "</div>\n",
    "\n",
    "A continuación te dejaré un comentario general con mi valoración del proyecto. **¡Mi objetivo es que sigas aprendiendo y mejorando con cada paso!**"
   ]
  },
  {
   "cell_type": "markdown",
   "metadata": {},
   "source": [
    "----"
   ]
  },
  {
   "cell_type": "markdown",
   "metadata": {},
   "source": [
    "<div class=\"alert alert-block alert-success\">\n",
    "<b>Comentario General del revisor (1ra Iteración)</b> <a class=“tocSkip”></a>\n",
    "\n",
    "Estela has desarrollado un excelente análisis exploratorio de datos (EDA), donde lograste una comprensión profunda de los datos y los ajustante de manera correcta. También destacó tu habilidad para emplear herramientas de visualización de manera efectiva, obteniendo información valiosa y relevante. Tu dominio de la metodología de prueba de hipótesis es notable y refleja tu capacidad para analizar y interpretar datos de manera crítica. Además, la inclusión de comentarios en cada sección es un punto fuerte, ya que facilita la comprensión y seguimiento de tu proceso. He agregado algunos comentarios adicionales para ayudarte a llevar tu proyecto un paso más allá, pero en general, tu trabajo es sólido y demuestra tus habilidades en análisis de datos. Sigue adelante, consolidando tus conocimientos y aplicando tus habilidades en nuevos proyectos. Éxitos en tu próximo Sprint 🚀\n",
    "    \n",
    "\n",
    "</div>"
   ]
  },
  {
   "cell_type": "markdown",
   "metadata": {},
   "source": [
    "----"
   ]
  },
  {
   "cell_type": "markdown",
   "metadata": {
    "tags": [
     "e5c1f0c2-db9f-43a0-99b9-4875c52427e8"
    ]
   },
   "source": [
    "# Proyecto Integrado"
   ]
  },
  {
   "cell_type": "markdown",
   "metadata": {},
   "source": [
    "Paso 1. Abre el archivo de datos y estudia la información general"
   ]
  },
  {
   "cell_type": "code",
   "execution_count": 1,
   "metadata": {},
   "outputs": [],
   "source": [
    "import pandas as pd\n",
    "import matplotlib.pyplot as plt\n",
    "from scipy import stats as st\n",
    "import seaborn as sns\n",
    "#importar librerias"
   ]
  },
  {
   "cell_type": "code",
   "execution_count": 2,
   "metadata": {
    "scrolled": true
   },
   "outputs": [
    {
     "data": {
      "text/html": [
       "<div>\n",
       "<style scoped>\n",
       "    .dataframe tbody tr th:only-of-type {\n",
       "        vertical-align: middle;\n",
       "    }\n",
       "\n",
       "    .dataframe tbody tr th {\n",
       "        vertical-align: top;\n",
       "    }\n",
       "\n",
       "    .dataframe thead th {\n",
       "        text-align: right;\n",
       "    }\n",
       "</style>\n",
       "<table border=\"1\" class=\"dataframe\">\n",
       "  <thead>\n",
       "    <tr style=\"text-align: right;\">\n",
       "      <th></th>\n",
       "      <th>Name</th>\n",
       "      <th>Platform</th>\n",
       "      <th>Year_of_Release</th>\n",
       "      <th>Genre</th>\n",
       "      <th>NA_sales</th>\n",
       "      <th>EU_sales</th>\n",
       "      <th>JP_sales</th>\n",
       "      <th>Other_sales</th>\n",
       "      <th>Critic_Score</th>\n",
       "      <th>User_Score</th>\n",
       "      <th>Rating</th>\n",
       "    </tr>\n",
       "  </thead>\n",
       "  <tbody>\n",
       "    <tr>\n",
       "      <th>0</th>\n",
       "      <td>Wii Sports</td>\n",
       "      <td>Wii</td>\n",
       "      <td>2006.0</td>\n",
       "      <td>Sports</td>\n",
       "      <td>41.36</td>\n",
       "      <td>28.96</td>\n",
       "      <td>3.77</td>\n",
       "      <td>8.45</td>\n",
       "      <td>76.0</td>\n",
       "      <td>8</td>\n",
       "      <td>E</td>\n",
       "    </tr>\n",
       "    <tr>\n",
       "      <th>1</th>\n",
       "      <td>Super Mario Bros.</td>\n",
       "      <td>NES</td>\n",
       "      <td>1985.0</td>\n",
       "      <td>Platform</td>\n",
       "      <td>29.08</td>\n",
       "      <td>3.58</td>\n",
       "      <td>6.81</td>\n",
       "      <td>0.77</td>\n",
       "      <td>NaN</td>\n",
       "      <td>NaN</td>\n",
       "      <td>NaN</td>\n",
       "    </tr>\n",
       "    <tr>\n",
       "      <th>2</th>\n",
       "      <td>Mario Kart Wii</td>\n",
       "      <td>Wii</td>\n",
       "      <td>2008.0</td>\n",
       "      <td>Racing</td>\n",
       "      <td>15.68</td>\n",
       "      <td>12.76</td>\n",
       "      <td>3.79</td>\n",
       "      <td>3.29</td>\n",
       "      <td>82.0</td>\n",
       "      <td>8.3</td>\n",
       "      <td>E</td>\n",
       "    </tr>\n",
       "    <tr>\n",
       "      <th>3</th>\n",
       "      <td>Wii Sports Resort</td>\n",
       "      <td>Wii</td>\n",
       "      <td>2009.0</td>\n",
       "      <td>Sports</td>\n",
       "      <td>15.61</td>\n",
       "      <td>10.93</td>\n",
       "      <td>3.28</td>\n",
       "      <td>2.95</td>\n",
       "      <td>80.0</td>\n",
       "      <td>8</td>\n",
       "      <td>E</td>\n",
       "    </tr>\n",
       "    <tr>\n",
       "      <th>4</th>\n",
       "      <td>Pokemon Red/Pokemon Blue</td>\n",
       "      <td>GB</td>\n",
       "      <td>1996.0</td>\n",
       "      <td>Role-Playing</td>\n",
       "      <td>11.27</td>\n",
       "      <td>8.89</td>\n",
       "      <td>10.22</td>\n",
       "      <td>1.00</td>\n",
       "      <td>NaN</td>\n",
       "      <td>NaN</td>\n",
       "      <td>NaN</td>\n",
       "    </tr>\n",
       "    <tr>\n",
       "      <th>...</th>\n",
       "      <td>...</td>\n",
       "      <td>...</td>\n",
       "      <td>...</td>\n",
       "      <td>...</td>\n",
       "      <td>...</td>\n",
       "      <td>...</td>\n",
       "      <td>...</td>\n",
       "      <td>...</td>\n",
       "      <td>...</td>\n",
       "      <td>...</td>\n",
       "      <td>...</td>\n",
       "    </tr>\n",
       "    <tr>\n",
       "      <th>16710</th>\n",
       "      <td>Samurai Warriors: Sanada Maru</td>\n",
       "      <td>PS3</td>\n",
       "      <td>2016.0</td>\n",
       "      <td>Action</td>\n",
       "      <td>0.00</td>\n",
       "      <td>0.00</td>\n",
       "      <td>0.01</td>\n",
       "      <td>0.00</td>\n",
       "      <td>NaN</td>\n",
       "      <td>NaN</td>\n",
       "      <td>NaN</td>\n",
       "    </tr>\n",
       "    <tr>\n",
       "      <th>16711</th>\n",
       "      <td>LMA Manager 2007</td>\n",
       "      <td>X360</td>\n",
       "      <td>2006.0</td>\n",
       "      <td>Sports</td>\n",
       "      <td>0.00</td>\n",
       "      <td>0.01</td>\n",
       "      <td>0.00</td>\n",
       "      <td>0.00</td>\n",
       "      <td>NaN</td>\n",
       "      <td>NaN</td>\n",
       "      <td>NaN</td>\n",
       "    </tr>\n",
       "    <tr>\n",
       "      <th>16712</th>\n",
       "      <td>Haitaka no Psychedelica</td>\n",
       "      <td>PSV</td>\n",
       "      <td>2016.0</td>\n",
       "      <td>Adventure</td>\n",
       "      <td>0.00</td>\n",
       "      <td>0.00</td>\n",
       "      <td>0.01</td>\n",
       "      <td>0.00</td>\n",
       "      <td>NaN</td>\n",
       "      <td>NaN</td>\n",
       "      <td>NaN</td>\n",
       "    </tr>\n",
       "    <tr>\n",
       "      <th>16713</th>\n",
       "      <td>Spirits &amp; Spells</td>\n",
       "      <td>GBA</td>\n",
       "      <td>2003.0</td>\n",
       "      <td>Platform</td>\n",
       "      <td>0.01</td>\n",
       "      <td>0.00</td>\n",
       "      <td>0.00</td>\n",
       "      <td>0.00</td>\n",
       "      <td>NaN</td>\n",
       "      <td>NaN</td>\n",
       "      <td>NaN</td>\n",
       "    </tr>\n",
       "    <tr>\n",
       "      <th>16714</th>\n",
       "      <td>Winning Post 8 2016</td>\n",
       "      <td>PSV</td>\n",
       "      <td>2016.0</td>\n",
       "      <td>Simulation</td>\n",
       "      <td>0.00</td>\n",
       "      <td>0.00</td>\n",
       "      <td>0.01</td>\n",
       "      <td>0.00</td>\n",
       "      <td>NaN</td>\n",
       "      <td>NaN</td>\n",
       "      <td>NaN</td>\n",
       "    </tr>\n",
       "  </tbody>\n",
       "</table>\n",
       "<p>16715 rows × 11 columns</p>\n",
       "</div>"
      ],
      "text/plain": [
       "                                Name Platform  Year_of_Release         Genre  \\\n",
       "0                         Wii Sports      Wii           2006.0        Sports   \n",
       "1                  Super Mario Bros.      NES           1985.0      Platform   \n",
       "2                     Mario Kart Wii      Wii           2008.0        Racing   \n",
       "3                  Wii Sports Resort      Wii           2009.0        Sports   \n",
       "4           Pokemon Red/Pokemon Blue       GB           1996.0  Role-Playing   \n",
       "...                              ...      ...              ...           ...   \n",
       "16710  Samurai Warriors: Sanada Maru      PS3           2016.0        Action   \n",
       "16711               LMA Manager 2007     X360           2006.0        Sports   \n",
       "16712        Haitaka no Psychedelica      PSV           2016.0     Adventure   \n",
       "16713               Spirits & Spells      GBA           2003.0      Platform   \n",
       "16714            Winning Post 8 2016      PSV           2016.0    Simulation   \n",
       "\n",
       "       NA_sales  EU_sales  JP_sales  Other_sales  Critic_Score User_Score  \\\n",
       "0         41.36     28.96      3.77         8.45          76.0          8   \n",
       "1         29.08      3.58      6.81         0.77           NaN        NaN   \n",
       "2         15.68     12.76      3.79         3.29          82.0        8.3   \n",
       "3         15.61     10.93      3.28         2.95          80.0          8   \n",
       "4         11.27      8.89     10.22         1.00           NaN        NaN   \n",
       "...         ...       ...       ...          ...           ...        ...   \n",
       "16710      0.00      0.00      0.01         0.00           NaN        NaN   \n",
       "16711      0.00      0.01      0.00         0.00           NaN        NaN   \n",
       "16712      0.00      0.00      0.01         0.00           NaN        NaN   \n",
       "16713      0.01      0.00      0.00         0.00           NaN        NaN   \n",
       "16714      0.00      0.00      0.01         0.00           NaN        NaN   \n",
       "\n",
       "      Rating  \n",
       "0          E  \n",
       "1        NaN  \n",
       "2          E  \n",
       "3          E  \n",
       "4        NaN  \n",
       "...      ...  \n",
       "16710    NaN  \n",
       "16711    NaN  \n",
       "16712    NaN  \n",
       "16713    NaN  \n",
       "16714    NaN  \n",
       "\n",
       "[16715 rows x 11 columns]"
      ]
     },
     "execution_count": 2,
     "metadata": {},
     "output_type": "execute_result"
    }
   ],
   "source": [
    "#Cargar los datos\n",
    "games = pd.read_csv('/datasets/games.csv')\n",
    "games"
   ]
  },
  {
   "cell_type": "markdown",
   "metadata": {},
   "source": [
    "Paso 2. Prepara los datos"
   ]
  },
  {
   "cell_type": "code",
   "execution_count": 3,
   "metadata": {},
   "outputs": [
    {
     "data": {
      "text/html": [
       "<div>\n",
       "<style scoped>\n",
       "    .dataframe tbody tr th:only-of-type {\n",
       "        vertical-align: middle;\n",
       "    }\n",
       "\n",
       "    .dataframe tbody tr th {\n",
       "        vertical-align: top;\n",
       "    }\n",
       "\n",
       "    .dataframe thead th {\n",
       "        text-align: right;\n",
       "    }\n",
       "</style>\n",
       "<table border=\"1\" class=\"dataframe\">\n",
       "  <thead>\n",
       "    <tr style=\"text-align: right;\">\n",
       "      <th></th>\n",
       "      <th>name</th>\n",
       "      <th>platform</th>\n",
       "      <th>year_of_release</th>\n",
       "      <th>genre</th>\n",
       "      <th>na_sales</th>\n",
       "      <th>eu_sales</th>\n",
       "      <th>jp_sales</th>\n",
       "      <th>other_sales</th>\n",
       "      <th>critic_score</th>\n",
       "      <th>user_score</th>\n",
       "      <th>rating</th>\n",
       "    </tr>\n",
       "  </thead>\n",
       "  <tbody>\n",
       "    <tr>\n",
       "      <th>0</th>\n",
       "      <td>Wii Sports</td>\n",
       "      <td>Wii</td>\n",
       "      <td>2006.0</td>\n",
       "      <td>Sports</td>\n",
       "      <td>41.36</td>\n",
       "      <td>28.96</td>\n",
       "      <td>3.77</td>\n",
       "      <td>8.45</td>\n",
       "      <td>76.0</td>\n",
       "      <td>8</td>\n",
       "      <td>E</td>\n",
       "    </tr>\n",
       "    <tr>\n",
       "      <th>1</th>\n",
       "      <td>Super Mario Bros.</td>\n",
       "      <td>NES</td>\n",
       "      <td>1985.0</td>\n",
       "      <td>Platform</td>\n",
       "      <td>29.08</td>\n",
       "      <td>3.58</td>\n",
       "      <td>6.81</td>\n",
       "      <td>0.77</td>\n",
       "      <td>NaN</td>\n",
       "      <td>NaN</td>\n",
       "      <td>NaN</td>\n",
       "    </tr>\n",
       "    <tr>\n",
       "      <th>2</th>\n",
       "      <td>Mario Kart Wii</td>\n",
       "      <td>Wii</td>\n",
       "      <td>2008.0</td>\n",
       "      <td>Racing</td>\n",
       "      <td>15.68</td>\n",
       "      <td>12.76</td>\n",
       "      <td>3.79</td>\n",
       "      <td>3.29</td>\n",
       "      <td>82.0</td>\n",
       "      <td>8.3</td>\n",
       "      <td>E</td>\n",
       "    </tr>\n",
       "    <tr>\n",
       "      <th>3</th>\n",
       "      <td>Wii Sports Resort</td>\n",
       "      <td>Wii</td>\n",
       "      <td>2009.0</td>\n",
       "      <td>Sports</td>\n",
       "      <td>15.61</td>\n",
       "      <td>10.93</td>\n",
       "      <td>3.28</td>\n",
       "      <td>2.95</td>\n",
       "      <td>80.0</td>\n",
       "      <td>8</td>\n",
       "      <td>E</td>\n",
       "    </tr>\n",
       "    <tr>\n",
       "      <th>4</th>\n",
       "      <td>Pokemon Red/Pokemon Blue</td>\n",
       "      <td>GB</td>\n",
       "      <td>1996.0</td>\n",
       "      <td>Role-Playing</td>\n",
       "      <td>11.27</td>\n",
       "      <td>8.89</td>\n",
       "      <td>10.22</td>\n",
       "      <td>1.00</td>\n",
       "      <td>NaN</td>\n",
       "      <td>NaN</td>\n",
       "      <td>NaN</td>\n",
       "    </tr>\n",
       "    <tr>\n",
       "      <th>...</th>\n",
       "      <td>...</td>\n",
       "      <td>...</td>\n",
       "      <td>...</td>\n",
       "      <td>...</td>\n",
       "      <td>...</td>\n",
       "      <td>...</td>\n",
       "      <td>...</td>\n",
       "      <td>...</td>\n",
       "      <td>...</td>\n",
       "      <td>...</td>\n",
       "      <td>...</td>\n",
       "    </tr>\n",
       "    <tr>\n",
       "      <th>16710</th>\n",
       "      <td>Samurai Warriors: Sanada Maru</td>\n",
       "      <td>PS3</td>\n",
       "      <td>2016.0</td>\n",
       "      <td>Action</td>\n",
       "      <td>0.00</td>\n",
       "      <td>0.00</td>\n",
       "      <td>0.01</td>\n",
       "      <td>0.00</td>\n",
       "      <td>NaN</td>\n",
       "      <td>NaN</td>\n",
       "      <td>NaN</td>\n",
       "    </tr>\n",
       "    <tr>\n",
       "      <th>16711</th>\n",
       "      <td>LMA Manager 2007</td>\n",
       "      <td>X360</td>\n",
       "      <td>2006.0</td>\n",
       "      <td>Sports</td>\n",
       "      <td>0.00</td>\n",
       "      <td>0.01</td>\n",
       "      <td>0.00</td>\n",
       "      <td>0.00</td>\n",
       "      <td>NaN</td>\n",
       "      <td>NaN</td>\n",
       "      <td>NaN</td>\n",
       "    </tr>\n",
       "    <tr>\n",
       "      <th>16712</th>\n",
       "      <td>Haitaka no Psychedelica</td>\n",
       "      <td>PSV</td>\n",
       "      <td>2016.0</td>\n",
       "      <td>Adventure</td>\n",
       "      <td>0.00</td>\n",
       "      <td>0.00</td>\n",
       "      <td>0.01</td>\n",
       "      <td>0.00</td>\n",
       "      <td>NaN</td>\n",
       "      <td>NaN</td>\n",
       "      <td>NaN</td>\n",
       "    </tr>\n",
       "    <tr>\n",
       "      <th>16713</th>\n",
       "      <td>Spirits &amp; Spells</td>\n",
       "      <td>GBA</td>\n",
       "      <td>2003.0</td>\n",
       "      <td>Platform</td>\n",
       "      <td>0.01</td>\n",
       "      <td>0.00</td>\n",
       "      <td>0.00</td>\n",
       "      <td>0.00</td>\n",
       "      <td>NaN</td>\n",
       "      <td>NaN</td>\n",
       "      <td>NaN</td>\n",
       "    </tr>\n",
       "    <tr>\n",
       "      <th>16714</th>\n",
       "      <td>Winning Post 8 2016</td>\n",
       "      <td>PSV</td>\n",
       "      <td>2016.0</td>\n",
       "      <td>Simulation</td>\n",
       "      <td>0.00</td>\n",
       "      <td>0.00</td>\n",
       "      <td>0.01</td>\n",
       "      <td>0.00</td>\n",
       "      <td>NaN</td>\n",
       "      <td>NaN</td>\n",
       "      <td>NaN</td>\n",
       "    </tr>\n",
       "  </tbody>\n",
       "</table>\n",
       "<p>16715 rows × 11 columns</p>\n",
       "</div>"
      ],
      "text/plain": [
       "                                name platform  year_of_release         genre  \\\n",
       "0                         Wii Sports      Wii           2006.0        Sports   \n",
       "1                  Super Mario Bros.      NES           1985.0      Platform   \n",
       "2                     Mario Kart Wii      Wii           2008.0        Racing   \n",
       "3                  Wii Sports Resort      Wii           2009.0        Sports   \n",
       "4           Pokemon Red/Pokemon Blue       GB           1996.0  Role-Playing   \n",
       "...                              ...      ...              ...           ...   \n",
       "16710  Samurai Warriors: Sanada Maru      PS3           2016.0        Action   \n",
       "16711               LMA Manager 2007     X360           2006.0        Sports   \n",
       "16712        Haitaka no Psychedelica      PSV           2016.0     Adventure   \n",
       "16713               Spirits & Spells      GBA           2003.0      Platform   \n",
       "16714            Winning Post 8 2016      PSV           2016.0    Simulation   \n",
       "\n",
       "       na_sales  eu_sales  jp_sales  other_sales  critic_score user_score  \\\n",
       "0         41.36     28.96      3.77         8.45          76.0          8   \n",
       "1         29.08      3.58      6.81         0.77           NaN        NaN   \n",
       "2         15.68     12.76      3.79         3.29          82.0        8.3   \n",
       "3         15.61     10.93      3.28         2.95          80.0          8   \n",
       "4         11.27      8.89     10.22         1.00           NaN        NaN   \n",
       "...         ...       ...       ...          ...           ...        ...   \n",
       "16710      0.00      0.00      0.01         0.00           NaN        NaN   \n",
       "16711      0.00      0.01      0.00         0.00           NaN        NaN   \n",
       "16712      0.00      0.00      0.01         0.00           NaN        NaN   \n",
       "16713      0.01      0.00      0.00         0.00           NaN        NaN   \n",
       "16714      0.00      0.00      0.01         0.00           NaN        NaN   \n",
       "\n",
       "      rating  \n",
       "0          E  \n",
       "1        NaN  \n",
       "2          E  \n",
       "3          E  \n",
       "4        NaN  \n",
       "...      ...  \n",
       "16710    NaN  \n",
       "16711    NaN  \n",
       "16712    NaN  \n",
       "16713    NaN  \n",
       "16714    NaN  \n",
       "\n",
       "[16715 rows x 11 columns]"
      ]
     },
     "execution_count": 3,
     "metadata": {},
     "output_type": "execute_result"
    }
   ],
   "source": [
    "#poner los nombres de las columnas en minuscula \n",
    "\n",
    "games.columns = games.columns.str.lower()\n",
    "games"
   ]
  },
  {
   "cell_type": "code",
   "execution_count": 4,
   "metadata": {},
   "outputs": [
    {
     "name": "stdout",
     "output_type": "stream",
     "text": [
      "<class 'pandas.core.frame.DataFrame'>\n",
      "RangeIndex: 16715 entries, 0 to 16714\n",
      "Data columns (total 11 columns):\n",
      " #   Column           Non-Null Count  Dtype  \n",
      "---  ------           --------------  -----  \n",
      " 0   name             16713 non-null  object \n",
      " 1   platform         16715 non-null  object \n",
      " 2   year_of_release  16446 non-null  float64\n",
      " 3   genre            16713 non-null  object \n",
      " 4   na_sales         16715 non-null  float64\n",
      " 5   eu_sales         16715 non-null  float64\n",
      " 6   jp_sales         16715 non-null  float64\n",
      " 7   other_sales      16715 non-null  float64\n",
      " 8   critic_score     8137 non-null   float64\n",
      " 9   user_score       10014 non-null  object \n",
      " 10  rating           9949 non-null   object \n",
      "dtypes: float64(6), object(5)\n",
      "memory usage: 1.4+ MB\n"
     ]
    },
    {
     "data": {
      "text/html": [
       "<div>\n",
       "<style scoped>\n",
       "    .dataframe tbody tr th:only-of-type {\n",
       "        vertical-align: middle;\n",
       "    }\n",
       "\n",
       "    .dataframe tbody tr th {\n",
       "        vertical-align: top;\n",
       "    }\n",
       "\n",
       "    .dataframe thead th {\n",
       "        text-align: right;\n",
       "    }\n",
       "</style>\n",
       "<table border=\"1\" class=\"dataframe\">\n",
       "  <thead>\n",
       "    <tr style=\"text-align: right;\">\n",
       "      <th></th>\n",
       "      <th>year_of_release</th>\n",
       "      <th>na_sales</th>\n",
       "      <th>eu_sales</th>\n",
       "      <th>jp_sales</th>\n",
       "      <th>other_sales</th>\n",
       "      <th>critic_score</th>\n",
       "    </tr>\n",
       "  </thead>\n",
       "  <tbody>\n",
       "    <tr>\n",
       "      <th>count</th>\n",
       "      <td>16446.000000</td>\n",
       "      <td>16715.000000</td>\n",
       "      <td>16715.000000</td>\n",
       "      <td>16715.000000</td>\n",
       "      <td>16715.000000</td>\n",
       "      <td>8137.000000</td>\n",
       "    </tr>\n",
       "    <tr>\n",
       "      <th>mean</th>\n",
       "      <td>2006.484616</td>\n",
       "      <td>0.263377</td>\n",
       "      <td>0.145060</td>\n",
       "      <td>0.077617</td>\n",
       "      <td>0.047342</td>\n",
       "      <td>68.967679</td>\n",
       "    </tr>\n",
       "    <tr>\n",
       "      <th>std</th>\n",
       "      <td>5.877050</td>\n",
       "      <td>0.813604</td>\n",
       "      <td>0.503339</td>\n",
       "      <td>0.308853</td>\n",
       "      <td>0.186731</td>\n",
       "      <td>13.938165</td>\n",
       "    </tr>\n",
       "    <tr>\n",
       "      <th>min</th>\n",
       "      <td>1980.000000</td>\n",
       "      <td>0.000000</td>\n",
       "      <td>0.000000</td>\n",
       "      <td>0.000000</td>\n",
       "      <td>0.000000</td>\n",
       "      <td>13.000000</td>\n",
       "    </tr>\n",
       "    <tr>\n",
       "      <th>25%</th>\n",
       "      <td>2003.000000</td>\n",
       "      <td>0.000000</td>\n",
       "      <td>0.000000</td>\n",
       "      <td>0.000000</td>\n",
       "      <td>0.000000</td>\n",
       "      <td>60.000000</td>\n",
       "    </tr>\n",
       "    <tr>\n",
       "      <th>50%</th>\n",
       "      <td>2007.000000</td>\n",
       "      <td>0.080000</td>\n",
       "      <td>0.020000</td>\n",
       "      <td>0.000000</td>\n",
       "      <td>0.010000</td>\n",
       "      <td>71.000000</td>\n",
       "    </tr>\n",
       "    <tr>\n",
       "      <th>75%</th>\n",
       "      <td>2010.000000</td>\n",
       "      <td>0.240000</td>\n",
       "      <td>0.110000</td>\n",
       "      <td>0.040000</td>\n",
       "      <td>0.030000</td>\n",
       "      <td>79.000000</td>\n",
       "    </tr>\n",
       "    <tr>\n",
       "      <th>max</th>\n",
       "      <td>2016.000000</td>\n",
       "      <td>41.360000</td>\n",
       "      <td>28.960000</td>\n",
       "      <td>10.220000</td>\n",
       "      <td>10.570000</td>\n",
       "      <td>98.000000</td>\n",
       "    </tr>\n",
       "  </tbody>\n",
       "</table>\n",
       "</div>"
      ],
      "text/plain": [
       "       year_of_release      na_sales      eu_sales      jp_sales  \\\n",
       "count     16446.000000  16715.000000  16715.000000  16715.000000   \n",
       "mean       2006.484616      0.263377      0.145060      0.077617   \n",
       "std           5.877050      0.813604      0.503339      0.308853   \n",
       "min        1980.000000      0.000000      0.000000      0.000000   \n",
       "25%        2003.000000      0.000000      0.000000      0.000000   \n",
       "50%        2007.000000      0.080000      0.020000      0.000000   \n",
       "75%        2010.000000      0.240000      0.110000      0.040000   \n",
       "max        2016.000000     41.360000     28.960000     10.220000   \n",
       "\n",
       "        other_sales  critic_score  \n",
       "count  16715.000000   8137.000000  \n",
       "mean       0.047342     68.967679  \n",
       "std        0.186731     13.938165  \n",
       "min        0.000000     13.000000  \n",
       "25%        0.000000     60.000000  \n",
       "50%        0.010000     71.000000  \n",
       "75%        0.030000     79.000000  \n",
       "max       10.570000     98.000000  "
      ]
     },
     "execution_count": 4,
     "metadata": {},
     "output_type": "execute_result"
    }
   ],
   "source": [
    "#información del dataframe\n",
    "\n",
    "games.info()\n",
    "games.describe()"
   ]
  },
  {
   "cell_type": "markdown",
   "metadata": {},
   "source": [
    "Conclusiones:\n",
    "\n",
    "Ya que tenemos la infoacíon del dataframe, podemos observar que hay diferentes tipos de datos, algunos son cualitativos como el nombre de las plataformas y de los juegos. Tenemos también datos de tipo cuantitativo como las ventas por zona y los raitings. Los años los podemos dejar como datos cualitativos ya que describen el año y no tiene ningún valor númerico. \n",
    "\n",
    "En la información del datset también podemos observar que hay varias columnas que tienen valores ausentes, que son: critic_score, user_score y raiting. No es bueno eliminar las filas con valores ausentes ya que eliminariamos información importante como lo es el número de ventas de algunos juegos. Por lo tanto esos valores podriamos sustituirlos por algún otro número. \n",
    "\n",
    "En las columna de name también hay dos valores ausentes, por lo que esas si hay que eliminarlas ya que sin el nombre el resto de la información no es útil"
   ]
  },
  {
   "cell_type": "code",
   "execution_count": 5,
   "metadata": {},
   "outputs": [
    {
     "data": {
      "text/plain": [
       "0"
      ]
     },
     "execution_count": 5,
     "metadata": {},
     "output_type": "execute_result"
    }
   ],
   "source": [
    "#revisamos que no hayan duplicados\n",
    "games.duplicated().sum()"
   ]
  },
  {
   "cell_type": "code",
   "execution_count": 6,
   "metadata": {},
   "outputs": [
    {
     "name": "stdout",
     "output_type": "stream",
     "text": [
      "<class 'pandas.core.frame.DataFrame'>\n",
      "RangeIndex: 16713 entries, 0 to 16712\n",
      "Data columns (total 11 columns):\n",
      " #   Column           Non-Null Count  Dtype  \n",
      "---  ------           --------------  -----  \n",
      " 0   name             16713 non-null  object \n",
      " 1   platform         16713 non-null  object \n",
      " 2   year_of_release  16713 non-null  int64  \n",
      " 3   genre            16713 non-null  object \n",
      " 4   na_sales         16713 non-null  float64\n",
      " 5   eu_sales         16713 non-null  float64\n",
      " 6   jp_sales         16713 non-null  float64\n",
      " 7   other_sales      16713 non-null  float64\n",
      " 8   critic_score     16713 non-null  float64\n",
      " 9   user_score       16713 non-null  float64\n",
      " 10  rating           16713 non-null  object \n",
      "dtypes: float64(6), int64(1), object(4)\n",
      "memory usage: 1.4+ MB\n"
     ]
    }
   ],
   "source": [
    "#rellenar valores ausentes del año con 0\n",
    "\n",
    "games['year_of_release'] = games['year_of_release'].fillna(0).astype(int)\n",
    "games.dropna(subset=['name'], inplace=True) # se eliminan las filas que tienen ausente el nombre\n",
    "games.reset_index(drop=True, inplace=True)\n",
    "\n",
    "games['user_score'] = pd.to_numeric(games[\"user_score\"].replace(\"tbd\", \"11\"))\n",
    "games['rating'] = games['rating'].fillna(' ')\n",
    "games['critic_score'] = games['critic_score'].fillna(games['critic_score'].mean())\n",
    "games['user_score'] = games['user_score'].fillna(games['user_score'].mean())\n",
    "\n",
    "games.info()\n",
    "\n"
   ]
  },
  {
   "cell_type": "markdown",
   "metadata": {},
   "source": [
    "conclusiones:\n",
    "\n",
    "Se revisó que no hubieran filas duplicadas, y posterioemente se corrigieron los datoa ausentes. Los años ausentes se rellenaron con 0 ya que son muy poquitos y no cambiará el resultado final. También se cambio a entero. \n",
    "\n",
    "por otro lado , critic_score se cambio para que fuera un valor numerico y se remplazaron los valores de TbD para que no entren en el rango de 0-10\n",
    "\n",
    "y finalemnte, lo valores nulos de critic score y user score se rellenaron con la media de los démas. "
   ]
  },
  {
   "cell_type": "code",
   "execution_count": 7,
   "metadata": {},
   "outputs": [
    {
     "data": {
      "text/html": [
       "<div>\n",
       "<style scoped>\n",
       "    .dataframe tbody tr th:only-of-type {\n",
       "        vertical-align: middle;\n",
       "    }\n",
       "\n",
       "    .dataframe tbody tr th {\n",
       "        vertical-align: top;\n",
       "    }\n",
       "\n",
       "    .dataframe thead th {\n",
       "        text-align: right;\n",
       "    }\n",
       "</style>\n",
       "<table border=\"1\" class=\"dataframe\">\n",
       "  <thead>\n",
       "    <tr style=\"text-align: right;\">\n",
       "      <th></th>\n",
       "      <th>name</th>\n",
       "      <th>platform</th>\n",
       "      <th>year_of_release</th>\n",
       "      <th>genre</th>\n",
       "      <th>na_sales</th>\n",
       "      <th>eu_sales</th>\n",
       "      <th>jp_sales</th>\n",
       "      <th>other_sales</th>\n",
       "      <th>critic_score</th>\n",
       "      <th>user_score</th>\n",
       "      <th>rating</th>\n",
       "      <th>total_sales</th>\n",
       "    </tr>\n",
       "  </thead>\n",
       "  <tbody>\n",
       "    <tr>\n",
       "      <th>0</th>\n",
       "      <td>Wii Sports</td>\n",
       "      <td>Wii</td>\n",
       "      <td>2006</td>\n",
       "      <td>Sports</td>\n",
       "      <td>41.36</td>\n",
       "      <td>28.96</td>\n",
       "      <td>3.77</td>\n",
       "      <td>8.45</td>\n",
       "      <td>76.000000</td>\n",
       "      <td>8.000000</td>\n",
       "      <td>E</td>\n",
       "      <td>82.54</td>\n",
       "    </tr>\n",
       "    <tr>\n",
       "      <th>1</th>\n",
       "      <td>Super Mario Bros.</td>\n",
       "      <td>NES</td>\n",
       "      <td>1985</td>\n",
       "      <td>Platform</td>\n",
       "      <td>29.08</td>\n",
       "      <td>3.58</td>\n",
       "      <td>6.81</td>\n",
       "      <td>0.77</td>\n",
       "      <td>68.967679</td>\n",
       "      <td>8.063022</td>\n",
       "      <td></td>\n",
       "      <td>40.24</td>\n",
       "    </tr>\n",
       "    <tr>\n",
       "      <th>2</th>\n",
       "      <td>Mario Kart Wii</td>\n",
       "      <td>Wii</td>\n",
       "      <td>2008</td>\n",
       "      <td>Racing</td>\n",
       "      <td>15.68</td>\n",
       "      <td>12.76</td>\n",
       "      <td>3.79</td>\n",
       "      <td>3.29</td>\n",
       "      <td>82.000000</td>\n",
       "      <td>8.300000</td>\n",
       "      <td>E</td>\n",
       "      <td>35.52</td>\n",
       "    </tr>\n",
       "    <tr>\n",
       "      <th>3</th>\n",
       "      <td>Wii Sports Resort</td>\n",
       "      <td>Wii</td>\n",
       "      <td>2009</td>\n",
       "      <td>Sports</td>\n",
       "      <td>15.61</td>\n",
       "      <td>10.93</td>\n",
       "      <td>3.28</td>\n",
       "      <td>2.95</td>\n",
       "      <td>80.000000</td>\n",
       "      <td>8.000000</td>\n",
       "      <td>E</td>\n",
       "      <td>32.77</td>\n",
       "    </tr>\n",
       "    <tr>\n",
       "      <th>4</th>\n",
       "      <td>Pokemon Red/Pokemon Blue</td>\n",
       "      <td>GB</td>\n",
       "      <td>1996</td>\n",
       "      <td>Role-Playing</td>\n",
       "      <td>11.27</td>\n",
       "      <td>8.89</td>\n",
       "      <td>10.22</td>\n",
       "      <td>1.00</td>\n",
       "      <td>68.967679</td>\n",
       "      <td>8.063022</td>\n",
       "      <td></td>\n",
       "      <td>31.38</td>\n",
       "    </tr>\n",
       "    <tr>\n",
       "      <th>...</th>\n",
       "      <td>...</td>\n",
       "      <td>...</td>\n",
       "      <td>...</td>\n",
       "      <td>...</td>\n",
       "      <td>...</td>\n",
       "      <td>...</td>\n",
       "      <td>...</td>\n",
       "      <td>...</td>\n",
       "      <td>...</td>\n",
       "      <td>...</td>\n",
       "      <td>...</td>\n",
       "      <td>...</td>\n",
       "    </tr>\n",
       "    <tr>\n",
       "      <th>16708</th>\n",
       "      <td>Samurai Warriors: Sanada Maru</td>\n",
       "      <td>PS3</td>\n",
       "      <td>2016</td>\n",
       "      <td>Action</td>\n",
       "      <td>0.00</td>\n",
       "      <td>0.00</td>\n",
       "      <td>0.01</td>\n",
       "      <td>0.00</td>\n",
       "      <td>68.967679</td>\n",
       "      <td>8.063022</td>\n",
       "      <td></td>\n",
       "      <td>0.01</td>\n",
       "    </tr>\n",
       "    <tr>\n",
       "      <th>16709</th>\n",
       "      <td>LMA Manager 2007</td>\n",
       "      <td>X360</td>\n",
       "      <td>2006</td>\n",
       "      <td>Sports</td>\n",
       "      <td>0.00</td>\n",
       "      <td>0.01</td>\n",
       "      <td>0.00</td>\n",
       "      <td>0.00</td>\n",
       "      <td>68.967679</td>\n",
       "      <td>8.063022</td>\n",
       "      <td></td>\n",
       "      <td>0.01</td>\n",
       "    </tr>\n",
       "    <tr>\n",
       "      <th>16710</th>\n",
       "      <td>Haitaka no Psychedelica</td>\n",
       "      <td>PSV</td>\n",
       "      <td>2016</td>\n",
       "      <td>Adventure</td>\n",
       "      <td>0.00</td>\n",
       "      <td>0.00</td>\n",
       "      <td>0.01</td>\n",
       "      <td>0.00</td>\n",
       "      <td>68.967679</td>\n",
       "      <td>8.063022</td>\n",
       "      <td></td>\n",
       "      <td>0.01</td>\n",
       "    </tr>\n",
       "    <tr>\n",
       "      <th>16711</th>\n",
       "      <td>Spirits &amp; Spells</td>\n",
       "      <td>GBA</td>\n",
       "      <td>2003</td>\n",
       "      <td>Platform</td>\n",
       "      <td>0.01</td>\n",
       "      <td>0.00</td>\n",
       "      <td>0.00</td>\n",
       "      <td>0.00</td>\n",
       "      <td>68.967679</td>\n",
       "      <td>8.063022</td>\n",
       "      <td></td>\n",
       "      <td>0.01</td>\n",
       "    </tr>\n",
       "    <tr>\n",
       "      <th>16712</th>\n",
       "      <td>Winning Post 8 2016</td>\n",
       "      <td>PSV</td>\n",
       "      <td>2016</td>\n",
       "      <td>Simulation</td>\n",
       "      <td>0.00</td>\n",
       "      <td>0.00</td>\n",
       "      <td>0.01</td>\n",
       "      <td>0.00</td>\n",
       "      <td>68.967679</td>\n",
       "      <td>8.063022</td>\n",
       "      <td></td>\n",
       "      <td>0.01</td>\n",
       "    </tr>\n",
       "  </tbody>\n",
       "</table>\n",
       "<p>16713 rows × 12 columns</p>\n",
       "</div>"
      ],
      "text/plain": [
       "                                name platform  year_of_release         genre  \\\n",
       "0                         Wii Sports      Wii             2006        Sports   \n",
       "1                  Super Mario Bros.      NES             1985      Platform   \n",
       "2                     Mario Kart Wii      Wii             2008        Racing   \n",
       "3                  Wii Sports Resort      Wii             2009        Sports   \n",
       "4           Pokemon Red/Pokemon Blue       GB             1996  Role-Playing   \n",
       "...                              ...      ...              ...           ...   \n",
       "16708  Samurai Warriors: Sanada Maru      PS3             2016        Action   \n",
       "16709               LMA Manager 2007     X360             2006        Sports   \n",
       "16710        Haitaka no Psychedelica      PSV             2016     Adventure   \n",
       "16711               Spirits & Spells      GBA             2003      Platform   \n",
       "16712            Winning Post 8 2016      PSV             2016    Simulation   \n",
       "\n",
       "       na_sales  eu_sales  jp_sales  other_sales  critic_score  user_score  \\\n",
       "0         41.36     28.96      3.77         8.45     76.000000    8.000000   \n",
       "1         29.08      3.58      6.81         0.77     68.967679    8.063022   \n",
       "2         15.68     12.76      3.79         3.29     82.000000    8.300000   \n",
       "3         15.61     10.93      3.28         2.95     80.000000    8.000000   \n",
       "4         11.27      8.89     10.22         1.00     68.967679    8.063022   \n",
       "...         ...       ...       ...          ...           ...         ...   \n",
       "16708      0.00      0.00      0.01         0.00     68.967679    8.063022   \n",
       "16709      0.00      0.01      0.00         0.00     68.967679    8.063022   \n",
       "16710      0.00      0.00      0.01         0.00     68.967679    8.063022   \n",
       "16711      0.01      0.00      0.00         0.00     68.967679    8.063022   \n",
       "16712      0.00      0.00      0.01         0.00     68.967679    8.063022   \n",
       "\n",
       "      rating  total_sales  \n",
       "0          E        82.54  \n",
       "1                   40.24  \n",
       "2          E        35.52  \n",
       "3          E        32.77  \n",
       "4                   31.38  \n",
       "...      ...          ...  \n",
       "16708                0.01  \n",
       "16709                0.01  \n",
       "16710                0.01  \n",
       "16711                0.01  \n",
       "16712                0.01  \n",
       "\n",
       "[16713 rows x 12 columns]"
      ]
     },
     "execution_count": 7,
     "metadata": {},
     "output_type": "execute_result"
    }
   ],
   "source": [
    "# Calcular ventas totales\n",
    "games[\"total_sales\"] = (games[\"na_sales\"] + games[\"eu_sales\"] + games[\"jp_sales\"] + games[\"other_sales\"])\n",
    "games"
   ]
  },
  {
   "cell_type": "markdown",
   "metadata": {},
   "source": [
    "<div class=\"alert alert-block alert-success\">\n",
    "<b>Comentario del revisor (1ra Iteración)</b> <a class=“tocSkip”></a>\n",
    "    \n",
    "Estela hiciste un excelente análisis exploratorio de datos. Has realizado los ajustes necesarios para tener una base de datos adecuada para las siguientes etapas de análisis. Hiciste un correcto análisis de los valores faltantes. Aunque al tratarse de un proyecto de análisis, no hay tanto lío si de dejan algunos de estos valores faltantes. Más adelante cuando trabajes en el desarrollo de modelos predicitivos si será necesario utilizar técnicas más avanzadas para manejar estos datos, pero eso ya lo aprenderás.\n",
    "\n",
    "\n",
    "</div>"
   ]
  },
  {
   "cell_type": "markdown",
   "metadata": {},
   "source": [
    "Paso 3. Analiza los datos"
   ]
  },
  {
   "cell_type": "code",
   "execution_count": 8,
   "metadata": {},
   "outputs": [
    {
     "data": {
      "image/png": "[encoded data removed]",
      "text/plain": [
       "<Figure size 640x480 with 1 Axes>"
      ]
     },
     "metadata": {},
     "output_type": "display_data"
    }
   ],
   "source": [
    "#Mira cuántos juegos fueron lanzados en diferentes años. ¿Son significativos los datos de cada período?\n",
    "\n",
    "games_year = games.groupby('year_of_release').count()['name'][1:].plot()\n",
    "games_year.plot(xlabel = 'año', ylabel = 'Número de juegos', title= 'Entre 2005-2010 fueron los años en que hubieron más lanzamientos de juegos' )\n",
    "plt.show()"
   ]
  },
  {
   "cell_type": "markdown",
   "metadata": {},
   "source": [
    "Observa cómo varían las ventas de una plataforma a otra. Elige las plataformas con las mayores ventas totales y construye una distribución basada en los datos de cada año. Busca las plataformas que solían ser populares pero que ahora no tienen ventas. ¿Cuánto tardan generalmente las nuevas plataformas en aparecer y las antiguas en desaparecer?"
   ]
  },
  {
   "cell_type": "code",
   "execution_count": 9,
   "metadata": {},
   "outputs": [
    {
     "data": {
      "text/plain": [
       "<AxesSubplot:title={'center':'Ventas totales de cada plataforma entre los años 1980 y 2016'}, xlabel='platform', ylabel='ventas totales (mill. USD)'>"
      ]
     },
     "execution_count": 9,
     "metadata": {},
     "output_type": "execute_result"
    },
    {
     "data": {
      "image/png": "[encoded data removed]",
      "text/plain": [
       "<Figure size 640x480 with 1 Axes>"
      ]
     },
     "metadata": {},
     "output_type": "display_data"
    }
   ],
   "source": [
    "platform_sales = games.groupby('platform')['total_sales'].sum().sort_values(ascending=False)\n",
    "platform_sales.head(10)\n",
    "platform_sales.plot(kind='bar', ylabel='ventas totales (mill. USD)', title='Ventas totales de cada plataforma entre los años 1980 y 2016')\n"
   ]
  },
  {
   "cell_type": "code",
   "execution_count": 10,
   "metadata": {},
   "outputs": [
    {
     "data": {
      "text/plain": [
       "platform\n",
       "PS2     1255.77\n",
       "X360     971.42\n",
       "PS3      939.65\n",
       "Wii      907.51\n",
       "DS       806.12\n",
       "PS       730.86\n",
       "GBA      317.85\n",
       "PS4      314.14\n",
       "PSP      294.05\n",
       "PC       259.52\n",
       "Name: total_sales, dtype: float64"
      ]
     },
     "execution_count": 10,
     "metadata": {},
     "output_type": "execute_result"
    }
   ],
   "source": [
    "platform_sales.head(10)"
   ]
  },
  {
   "cell_type": "markdown",
   "metadata": {},
   "source": [
    "Historicamente, podemos observar que PS2 es por mucho la plataforma que ha tenido más ventas, superando los 1200 millones de dolares, lo cual es mucho más que que la plataforma que le sigue (X360) con ventas totales de 941 millones de dolares. Es una diferencia de 284 millones de dolares. Es mnuy significativa. Con esto podemos concluir que la PS2 es por mucho la mejor plataforma de videojuegos, historicamente. "
   ]
  },
  {
   "cell_type": "markdown",
   "metadata": {},
   "source": [
    "Determina para qué período debes tomar datos. Para hacerlo mira tus respuestas a las preguntas anteriores. Los datos deberían permitirte construir un modelo para 2017."
   ]
  },
  {
   "cell_type": "code",
   "execution_count": 11,
   "metadata": {},
   "outputs": [
    {
     "data": {
      "text/html": [
       "<div>\n",
       "<style scoped>\n",
       "    .dataframe tbody tr th:only-of-type {\n",
       "        vertical-align: middle;\n",
       "    }\n",
       "\n",
       "    .dataframe tbody tr th {\n",
       "        vertical-align: top;\n",
       "    }\n",
       "\n",
       "    .dataframe thead th {\n",
       "        text-align: right;\n",
       "    }\n",
       "</style>\n",
       "<table border=\"1\" class=\"dataframe\">\n",
       "  <thead>\n",
       "    <tr style=\"text-align: right;\">\n",
       "      <th></th>\n",
       "      <th>name</th>\n",
       "      <th>platform</th>\n",
       "      <th>year_of_release</th>\n",
       "      <th>genre</th>\n",
       "      <th>na_sales</th>\n",
       "      <th>eu_sales</th>\n",
       "      <th>jp_sales</th>\n",
       "      <th>other_sales</th>\n",
       "      <th>critic_score</th>\n",
       "      <th>user_score</th>\n",
       "      <th>rating</th>\n",
       "      <th>total_sales</th>\n",
       "    </tr>\n",
       "  </thead>\n",
       "  <tbody>\n",
       "    <tr>\n",
       "      <th>16</th>\n",
       "      <td>Grand Theft Auto V</td>\n",
       "      <td>PS3</td>\n",
       "      <td>2013</td>\n",
       "      <td>Action</td>\n",
       "      <td>7.02</td>\n",
       "      <td>9.09</td>\n",
       "      <td>0.98</td>\n",
       "      <td>3.96</td>\n",
       "      <td>97.000000</td>\n",
       "      <td>8.200000</td>\n",
       "      <td>M</td>\n",
       "      <td>21.05</td>\n",
       "    </tr>\n",
       "    <tr>\n",
       "      <th>23</th>\n",
       "      <td>Grand Theft Auto V</td>\n",
       "      <td>X360</td>\n",
       "      <td>2013</td>\n",
       "      <td>Action</td>\n",
       "      <td>9.66</td>\n",
       "      <td>5.14</td>\n",
       "      <td>0.06</td>\n",
       "      <td>1.41</td>\n",
       "      <td>97.000000</td>\n",
       "      <td>8.100000</td>\n",
       "      <td>M</td>\n",
       "      <td>16.27</td>\n",
       "    </tr>\n",
       "    <tr>\n",
       "      <th>29</th>\n",
       "      <td>Call of Duty: Modern Warfare 3</td>\n",
       "      <td>X360</td>\n",
       "      <td>2011</td>\n",
       "      <td>Shooter</td>\n",
       "      <td>9.04</td>\n",
       "      <td>4.24</td>\n",
       "      <td>0.13</td>\n",
       "      <td>1.32</td>\n",
       "      <td>88.000000</td>\n",
       "      <td>3.400000</td>\n",
       "      <td>M</td>\n",
       "      <td>14.73</td>\n",
       "    </tr>\n",
       "    <tr>\n",
       "      <th>31</th>\n",
       "      <td>Call of Duty: Black Ops 3</td>\n",
       "      <td>PS4</td>\n",
       "      <td>2015</td>\n",
       "      <td>Shooter</td>\n",
       "      <td>6.03</td>\n",
       "      <td>5.86</td>\n",
       "      <td>0.36</td>\n",
       "      <td>2.38</td>\n",
       "      <td>68.967679</td>\n",
       "      <td>8.063022</td>\n",
       "      <td></td>\n",
       "      <td>14.63</td>\n",
       "    </tr>\n",
       "    <tr>\n",
       "      <th>33</th>\n",
       "      <td>Pokemon X/Pokemon Y</td>\n",
       "      <td>3DS</td>\n",
       "      <td>2013</td>\n",
       "      <td>Role-Playing</td>\n",
       "      <td>5.28</td>\n",
       "      <td>4.19</td>\n",
       "      <td>4.35</td>\n",
       "      <td>0.78</td>\n",
       "      <td>68.967679</td>\n",
       "      <td>8.063022</td>\n",
       "      <td></td>\n",
       "      <td>14.60</td>\n",
       "    </tr>\n",
       "    <tr>\n",
       "      <th>...</th>\n",
       "      <td>...</td>\n",
       "      <td>...</td>\n",
       "      <td>...</td>\n",
       "      <td>...</td>\n",
       "      <td>...</td>\n",
       "      <td>...</td>\n",
       "      <td>...</td>\n",
       "      <td>...</td>\n",
       "      <td>...</td>\n",
       "      <td>...</td>\n",
       "      <td>...</td>\n",
       "      <td>...</td>\n",
       "    </tr>\n",
       "    <tr>\n",
       "      <th>16701</th>\n",
       "      <td>Strawberry Nauts</td>\n",
       "      <td>PSV</td>\n",
       "      <td>2016</td>\n",
       "      <td>Adventure</td>\n",
       "      <td>0.00</td>\n",
       "      <td>0.00</td>\n",
       "      <td>0.01</td>\n",
       "      <td>0.00</td>\n",
       "      <td>68.967679</td>\n",
       "      <td>8.063022</td>\n",
       "      <td></td>\n",
       "      <td>0.01</td>\n",
       "    </tr>\n",
       "    <tr>\n",
       "      <th>16705</th>\n",
       "      <td>Aiyoku no Eustia</td>\n",
       "      <td>PSV</td>\n",
       "      <td>2014</td>\n",
       "      <td>Misc</td>\n",
       "      <td>0.00</td>\n",
       "      <td>0.00</td>\n",
       "      <td>0.01</td>\n",
       "      <td>0.00</td>\n",
       "      <td>68.967679</td>\n",
       "      <td>8.063022</td>\n",
       "      <td></td>\n",
       "      <td>0.01</td>\n",
       "    </tr>\n",
       "    <tr>\n",
       "      <th>16708</th>\n",
       "      <td>Samurai Warriors: Sanada Maru</td>\n",
       "      <td>PS3</td>\n",
       "      <td>2016</td>\n",
       "      <td>Action</td>\n",
       "      <td>0.00</td>\n",
       "      <td>0.00</td>\n",
       "      <td>0.01</td>\n",
       "      <td>0.00</td>\n",
       "      <td>68.967679</td>\n",
       "      <td>8.063022</td>\n",
       "      <td></td>\n",
       "      <td>0.01</td>\n",
       "    </tr>\n",
       "    <tr>\n",
       "      <th>16710</th>\n",
       "      <td>Haitaka no Psychedelica</td>\n",
       "      <td>PSV</td>\n",
       "      <td>2016</td>\n",
       "      <td>Adventure</td>\n",
       "      <td>0.00</td>\n",
       "      <td>0.00</td>\n",
       "      <td>0.01</td>\n",
       "      <td>0.00</td>\n",
       "      <td>68.967679</td>\n",
       "      <td>8.063022</td>\n",
       "      <td></td>\n",
       "      <td>0.01</td>\n",
       "    </tr>\n",
       "    <tr>\n",
       "      <th>16712</th>\n",
       "      <td>Winning Post 8 2016</td>\n",
       "      <td>PSV</td>\n",
       "      <td>2016</td>\n",
       "      <td>Simulation</td>\n",
       "      <td>0.00</td>\n",
       "      <td>0.00</td>\n",
       "      <td>0.01</td>\n",
       "      <td>0.00</td>\n",
       "      <td>68.967679</td>\n",
       "      <td>8.063022</td>\n",
       "      <td></td>\n",
       "      <td>0.01</td>\n",
       "    </tr>\n",
       "  </tbody>\n",
       "</table>\n",
       "<p>4022 rows × 12 columns</p>\n",
       "</div>"
      ],
      "text/plain": [
       "                                 name platform  year_of_release         genre  \\\n",
       "16                 Grand Theft Auto V      PS3             2013        Action   \n",
       "23                 Grand Theft Auto V     X360             2013        Action   \n",
       "29     Call of Duty: Modern Warfare 3     X360             2011       Shooter   \n",
       "31          Call of Duty: Black Ops 3      PS4             2015       Shooter   \n",
       "33                Pokemon X/Pokemon Y      3DS             2013  Role-Playing   \n",
       "...                               ...      ...              ...           ...   \n",
       "16701                Strawberry Nauts      PSV             2016     Adventure   \n",
       "16705                Aiyoku no Eustia      PSV             2014          Misc   \n",
       "16708   Samurai Warriors: Sanada Maru      PS3             2016        Action   \n",
       "16710         Haitaka no Psychedelica      PSV             2016     Adventure   \n",
       "16712             Winning Post 8 2016      PSV             2016    Simulation   \n",
       "\n",
       "       na_sales  eu_sales  jp_sales  other_sales  critic_score  user_score  \\\n",
       "16         7.02      9.09      0.98         3.96     97.000000    8.200000   \n",
       "23         9.66      5.14      0.06         1.41     97.000000    8.100000   \n",
       "29         9.04      4.24      0.13         1.32     88.000000    3.400000   \n",
       "31         6.03      5.86      0.36         2.38     68.967679    8.063022   \n",
       "33         5.28      4.19      4.35         0.78     68.967679    8.063022   \n",
       "...         ...       ...       ...          ...           ...         ...   \n",
       "16701      0.00      0.00      0.01         0.00     68.967679    8.063022   \n",
       "16705      0.00      0.00      0.01         0.00     68.967679    8.063022   \n",
       "16708      0.00      0.00      0.01         0.00     68.967679    8.063022   \n",
       "16710      0.00      0.00      0.01         0.00     68.967679    8.063022   \n",
       "16712      0.00      0.00      0.01         0.00     68.967679    8.063022   \n",
       "\n",
       "      rating  total_sales  \n",
       "16         M        21.05  \n",
       "23         M        16.27  \n",
       "29         M        14.73  \n",
       "31                  14.63  \n",
       "33                  14.60  \n",
       "...      ...          ...  \n",
       "16701                0.01  \n",
       "16705                0.01  \n",
       "16708                0.01  \n",
       "16710                0.01  \n",
       "16712                0.01  \n",
       "\n",
       "[4022 rows x 12 columns]"
      ]
     },
     "execution_count": 11,
     "metadata": {},
     "output_type": "execute_result"
    }
   ],
   "source": [
    "#tomaremos datos del 2011 al 2016 para hacer proyecciones del año 2017\n",
    "\n",
    "games_new = games[(games['year_of_release'] >= 2011) & (games['year_of_release'] <=2016)]\n",
    "games_new\n",
    "\n"
   ]
  },
  {
   "cell_type": "code",
   "execution_count": 12,
   "metadata": {},
   "outputs": [
    {
     "data": {
      "text/plain": [
       "platform\n",
       "PS3     445.57\n",
       "X360    380.38\n",
       "PS4     314.14\n",
       "3DS     257.81\n",
       "XOne    159.32\n",
       "PC       97.68\n",
       "Wii      95.02\n",
       "WiiU     82.19\n",
       "PSV      53.81\n",
       "DS       38.73\n",
       "Name: total_sales, dtype: float64"
      ]
     },
     "execution_count": 12,
     "metadata": {},
     "output_type": "execute_result"
    }
   ],
   "source": [
    "platform_sales_new = games_new.groupby('platform')['total_sales'].sum().sort_values(ascending=False)\n",
    "platform_sales_new.head(10)"
   ]
  },
  {
   "cell_type": "code",
   "execution_count": 13,
   "metadata": {},
   "outputs": [
    {
     "data": {
      "text/plain": [
       "<AxesSubplot:xlabel='platform'>"
      ]
     },
     "execution_count": 13,
     "metadata": {},
     "output_type": "execute_result"
    },
    {
     "data": {
      "image/png": "[encoded data removed]",
      "text/plain": [
       "<Figure size 640x480 with 1 Axes>"
      ]
     },
     "metadata": {},
     "output_type": "display_data"
    }
   ],
   "source": [
    "platform_sales_new.plot(kind='bar')"
   ]
  },
  {
   "cell_type": "markdown",
   "metadata": {},
   "source": [
    "ya que seleccionamos los años con los que vamos a trabajar, podemos observar que la plataforma PS2 dejó de ser relevante ya que \n",
    "se lanzó la plataforma PS3, será que esta nueva plataforma pueda superar hostoricamente en ventas a la PS2? la X360 sigue ocuoando el segubdo lugar en ventas y luego sigue la PS4 que podiblemente supere en ventas a las PS3 por ser más actual. \n",
    "\n",
    "¿Qué plataformas son líderes en ventas? ¿Cuáles crecen y cuáles se reducen? Elige varias plataformas potencialmente rentables.\n",
    "\n",
    "PS es lider en ventas, sin embargo va variando su versión 2, 3,4.Yo creo que es importante seguir trabajando al menos con PS3 y PS4 que son las más actuale y sus ventas han ido incrementando. La X360 se ha segudo manteniendo entre las líderes, por lo que es importante seguir trabajando con sus datos y por estar en los últimos 5 años entre las líderes también hay que trabajar con 3DS y XOne. \n",
    "\n",
    "Es importante mencionar que tomar un periodo de datos de más de 5 años antes, puede ser conrtraproducente y sesgar nuestros resultados con datos obsoletos, siendo que las empresas de tecnologia estar en constante cambio e inovación. "
   ]
  },
  {
   "cell_type": "markdown",
   "metadata": {},
   "source": [
    "<div class=\"alert alert-block alert-success\">\n",
    "<b>Comentario del revisor (1ra Iteración)</b> <a class=“tocSkip”></a>\n",
    "\n",
    "Perfecto trabajo mostrando la información de lanzamiento por año y ventas por plataforma. Es muy cierto que en los últimos años, las plataformas de PS han tenido un dominio muy marcado.\n",
    "\n",
    "</div>"
   ]
  },
  {
   "cell_type": "markdown",
   "metadata": {},
   "source": [
    "Crea un diagrama de caja para las ventas globales de todos los juegos, desglosados por plataforma. ¿Son significativas las diferencias en las ventas? ¿Qué sucede con las ventas promedio en varias plataformas? Describe tus hallazgos."
   ]
  },
  {
   "cell_type": "code",
   "execution_count": 14,
   "metadata": {},
   "outputs": [
    {
     "data": {
      "image/png": "[encoded data removed]",
      "text/plain": [
       "<Figure size 640x480 with 1 Axes>"
      ]
     },
     "metadata": {},
     "output_type": "display_data"
    }
   ],
   "source": [
    "games_new.boxplot(column='total_sales', by='platform')\n",
    "plt.yticks([0.01, 0.1, 0.3, 0.5, 0.8, 1,  3])\n",
    "plt.ylim(0.005, 3)\n",
    "plt.title('Box plot de las ventas globales por plataforma')\n",
    "plt.ylabel('Ventas totales (mill. USD)')\n",
    "plt.show()\n",
    "\n"
   ]
  },
  {
   "cell_type": "markdown",
   "metadata": {},
   "source": [
    "como podemos ver en e boxplot, en todas las plataformas existen muchos valores atípicos. Sin embargo, la media de todas las plataformas se encuentra en un rando de 0.10 y 0.30 mill USD. Aunque hay algunas plataformas que estan por debajo de esto, pero por lo mismo no las tomamos en cuenta, ya que no son significativas. Para finalizar, podemos ver que hay algunas plataformas que tienen valores atipicos muy altos y que las mismas que ya habiamos mencionado antes como las principales,son las que tienen los valores máxmos más altos. "
   ]
  },
  {
   "cell_type": "markdown",
   "metadata": {},
   "source": [
    "<div class=\"alert alert-block alert-success\">\n",
    "<b>Comentario del revisor (1ra Iteración)</b> <a class=“tocSkip”></a>\n",
    "\n",
    "Excelente ajuste de la visualización del *box-plot*. Esto permite tener una mejor comparativa de los datos. Otra alternativa para no limitar completamente los valores de *y*, es usar una escala logarítmica.\n",
    "\n",
    "</div>"
   ]
  },
  {
   "cell_type": "markdown",
   "metadata": {},
   "source": [
    "Mira cómo las reseñas de usuarios y profesionales afectan las ventas de una plataforma popular (tu elección). Crea un gráfico de dispersión y calcula la correlación entre las reseñas y las ventas. Saca conclusiones."
   ]
  },
  {
   "cell_type": "code",
   "execution_count": 15,
   "metadata": {},
   "outputs": [
    {
     "data": {
      "text/plain": [
       "Text(0, 0.5, 'Total Sales')"
      ]
     },
     "execution_count": 15,
     "metadata": {},
     "output_type": "execute_result"
    },
    {
     "data": {
      "image/png": "[encoded data removed]",
      "text/plain": [
       "<Figure size 640x480 with 1 Axes>"
      ]
     },
     "metadata": {},
     "output_type": "display_data"
    }
   ],
   "source": [
    "sns.regplot(x='critic_score', y='total_sales', data=games_new)\n",
    "\n",
    "# Añadir título y etiquetas\n",
    "plt.title('La correlación entre critic score y total sales no tienen suficiente correlación')\n",
    "plt.xlabel('Critic Score')\n",
    "plt.ylabel('Total Sales')"
   ]
  },
  {
   "cell_type": "code",
   "execution_count": 16,
   "metadata": {},
   "outputs": [
    {
     "data": {
      "text/plain": [
       "Text(0, 0.5, 'Total Sales')"
      ]
     },
     "execution_count": 16,
     "metadata": {},
     "output_type": "execute_result"
    },
    {
     "data": {
      "image/png": "[encoded data removed]",
      "text/plain": [
       "<Figure size 640x480 with 1 Axes>"
      ]
     },
     "metadata": {},
     "output_type": "display_data"
    }
   ],
   "source": [
    "sns.regplot(x='user_score', y='total_sales', data=games_new)\n",
    "\n",
    "# Añadir título y etiquetas\n",
    "plt.title('las las ventas totales no tienen suficiente correlación con las reseñas de los usuarios')\n",
    "plt.xlabel('User Score')\n",
    "plt.ylabel('Total Sales')"
   ]
  },
  {
   "cell_type": "markdown",
   "metadata": {},
   "source": [
    "podemos ver que las criticas de los profesionales y de los usuarios no tiene un fuerte impacto en las ventas totales."
   ]
  },
  {
   "cell_type": "markdown",
   "metadata": {},
   "source": [
    "<div class=\"alert alert-block alert-warning\">\n",
    "<b>Comentario del revisor (1ra Iteración)</b> <a class=“tocSkip”></a>\n",
    "\n",
    "El uso de la función `regplot` es bastante útil para analizar cualitativamente la tendencia de los datos. Aunque si quieres determinar cuantitativamente la correlación entre variables puedes usar la función `corr` para determinar su relación en una escala de -1 a 1 que corresponde a la correlación de **Pearson**\n",
    "    \n",
    "    \n",
    "    \n",
    "![imagen](https://miro.medium.com/v2/resize:fit:2000/1*H4Ssq7V7mgWRRJhrIGhw7Q.png)\n",
    "\n",
    "</div>"
   ]
  },
  {
   "cell_type": "code",
   "execution_count": 17,
   "metadata": {},
   "outputs": [
    {
     "data": {
      "text/plain": [
       "name\n",
       "LEGO Marvel Super Heroes        9\n",
       "FIFA 14                         9\n",
       "FIFA 15                         8\n",
       "The LEGO Movie Videogame        8\n",
       "Angry Birds Star Wars           8\n",
       "Lego Batman 3: Beyond Gotham    8\n",
       "LEGO Jurassic World             8\n",
       "FIFA Soccer 13                  8\n",
       "Terraria                        8\n",
       "LEGO The Hobbit                 8\n",
       "Name: platform, dtype: int64"
      ]
     },
     "execution_count": 17,
     "metadata": {},
     "output_type": "execute_result"
    }
   ],
   "source": [
    "#Teniendo en cuenta tus conclusiones compara las ventas de los mismos juegos en otras plataformas.\n",
    "\n",
    "games_name = games_new.groupby('name')['platform'].count().sort_values(ascending=False)\n",
    "games_name.head(10)"
   ]
  },
  {
   "cell_type": "code",
   "execution_count": 18,
   "metadata": {},
   "outputs": [
    {
     "data": {
      "image/png": "[encoded data removed]",
      "text/plain": [
       "<Figure size 640x480 with 1 Axes>"
      ]
     },
     "metadata": {},
     "output_type": "display_data"
    }
   ],
   "source": [
    "games_name.plot(kind='hist')\n",
    "plt.xlabel = ['name']\n",
    "plt.show()"
   ]
  },
  {
   "cell_type": "markdown",
   "metadata": {},
   "source": [
    "Echa un vistazo a la distribución general de los juegos por género. ¿Qué se puede decir de los géneros más rentables? ¿Puedes generalizar acerca de los géneros con ventas altas y bajas?"
   ]
  },
  {
   "cell_type": "markdown",
   "metadata": {},
   "source": []
  },
  {
   "cell_type": "code",
   "execution_count": 19,
   "metadata": {},
   "outputs": [
    {
     "data": {
      "text/plain": [
       "genre\n",
       "Action          557.80\n",
       "Shooter         402.91\n",
       "Role-Playing    245.63\n",
       "Sports          237.15\n",
       "Misc            139.42\n",
       "Platform         88.68\n",
       "Racing           88.31\n",
       "Fighting         66.90\n",
       "Simulation       50.26\n",
       "Adventure        45.04\n",
       "Strategy         22.16\n",
       "Puzzle            9.85\n",
       "Name: total_sales, dtype: float64"
      ]
     },
     "execution_count": 19,
     "metadata": {},
     "output_type": "execute_result"
    }
   ],
   "source": [
    "games_genre = games_new.groupby(by='genre').sum()['total_sales'].sort_values(ascending=False)\n",
    "games_genre"
   ]
  },
  {
   "cell_type": "code",
   "execution_count": 20,
   "metadata": {},
   "outputs": [
    {
     "data": {
      "image/png": "[encoded data removed]",
      "text/plain": [
       "<Figure size 640x480 with 1 Axes>"
      ]
     },
     "metadata": {},
     "output_type": "display_data"
    }
   ],
   "source": [
    "games_genre.plot(kind='bar')\n",
    "plt.ylabel('Total sales (mill.USD) of each genre')\n",
    "plt.title('action genre is the most chosen by the audience')\n",
    "plt.show()"
   ]
  },
  {
   "cell_type": "markdown",
   "metadata": {},
   "source": [
    "En conclusion, podemos observar que independientemente de la plataforma el juego que más compran es Need for speed. Y el genero que más ventas tiene es acción. \n",
    "\n",
    "Como mencionamos antes, la venta de juegos y plataformas se encuentra en constante cambio, ya que siempre se está renovando. Sin embargo, podemos observar que hay un sesgo por géneros. Pueden sacar nuevos juegos de deportes o de acción y las ventas de estos pueden subir y bajar fácilemente, pero estos géneros serán los que más exito tendrán en el mercado. Soin embargo, los generos que son más de resolver problemas y estrategias son los que menos ventas tienen."
   ]
  },
  {
   "cell_type": "markdown",
   "metadata": {},
   "source": [
    "<div class=\"alert alert-block alert-success\">\n",
    "<b>Comentario del revisor (1ra Iteración)</b> <a class=“tocSkip”></a>\n",
    "\n",
    "Correcto Estela, según los datos los juegos de Acción son los más vendidos.\n",
    "\n",
    "</div>"
   ]
  },
  {
   "cell_type": "markdown",
   "metadata": {},
   "source": [
    "Paso 4. Crea un perfil de usuario para cada región\n",
    "\n",
    "Para cada región (NA, UE, JP) determina:"
   ]
  },
  {
   "cell_type": "code",
   "execution_count": 21,
   "metadata": {},
   "outputs": [
    {
     "data": {
      "text/html": [
       "<div>\n",
       "<style scoped>\n",
       "    .dataframe tbody tr th:only-of-type {\n",
       "        vertical-align: middle;\n",
       "    }\n",
       "\n",
       "    .dataframe tbody tr th {\n",
       "        vertical-align: top;\n",
       "    }\n",
       "\n",
       "    .dataframe thead th {\n",
       "        text-align: right;\n",
       "    }\n",
       "</style>\n",
       "<table border=\"1\" class=\"dataframe\">\n",
       "  <thead>\n",
       "    <tr style=\"text-align: right;\">\n",
       "      <th></th>\n",
       "      <th>na_sales</th>\n",
       "      <th>eu_sales</th>\n",
       "      <th>jp_sales</th>\n",
       "    </tr>\n",
       "    <tr>\n",
       "      <th>platform</th>\n",
       "      <th></th>\n",
       "      <th></th>\n",
       "      <th></th>\n",
       "    </tr>\n",
       "  </thead>\n",
       "  <tbody>\n",
       "    <tr>\n",
       "      <th>3DS</th>\n",
       "      <td>82.65</td>\n",
       "      <td>61.27</td>\n",
       "      <td>100.62</td>\n",
       "    </tr>\n",
       "    <tr>\n",
       "      <th>DS</th>\n",
       "      <td>18.86</td>\n",
       "      <td>9.24</td>\n",
       "      <td>8.04</td>\n",
       "    </tr>\n",
       "    <tr>\n",
       "      <th>PC</th>\n",
       "      <td>29.88</td>\n",
       "      <td>56.70</td>\n",
       "      <td>0.00</td>\n",
       "    </tr>\n",
       "    <tr>\n",
       "      <th>PS2</th>\n",
       "      <td>0.13</td>\n",
       "      <td>0.13</td>\n",
       "      <td>0.09</td>\n",
       "    </tr>\n",
       "    <tr>\n",
       "      <th>PS3</th>\n",
       "      <td>168.26</td>\n",
       "      <td>163.10</td>\n",
       "      <td>49.39</td>\n",
       "    </tr>\n",
       "    <tr>\n",
       "      <th>PS4</th>\n",
       "      <td>108.74</td>\n",
       "      <td>141.09</td>\n",
       "      <td>15.96</td>\n",
       "    </tr>\n",
       "    <tr>\n",
       "      <th>PSP</th>\n",
       "      <td>2.19</td>\n",
       "      <td>1.77</td>\n",
       "      <td>24.04</td>\n",
       "    </tr>\n",
       "    <tr>\n",
       "      <th>PSV</th>\n",
       "      <td>12.47</td>\n",
       "      <td>13.07</td>\n",
       "      <td>21.84</td>\n",
       "    </tr>\n",
       "    <tr>\n",
       "      <th>Wii</th>\n",
       "      <td>48.56</td>\n",
       "      <td>29.60</td>\n",
       "      <td>8.97</td>\n",
       "    </tr>\n",
       "    <tr>\n",
       "      <th>WiiU</th>\n",
       "      <td>38.10</td>\n",
       "      <td>25.13</td>\n",
       "      <td>13.01</td>\n",
       "    </tr>\n",
       "    <tr>\n",
       "      <th>X360</th>\n",
       "      <td>226.80</td>\n",
       "      <td>117.10</td>\n",
       "      <td>3.35</td>\n",
       "    </tr>\n",
       "    <tr>\n",
       "      <th>XOne</th>\n",
       "      <td>93.12</td>\n",
       "      <td>51.59</td>\n",
       "      <td>0.34</td>\n",
       "    </tr>\n",
       "  </tbody>\n",
       "</table>\n",
       "</div>"
      ],
      "text/plain": [
       "          na_sales  eu_sales  jp_sales\n",
       "platform                              \n",
       "3DS          82.65     61.27    100.62\n",
       "DS           18.86      9.24      8.04\n",
       "PC           29.88     56.70      0.00\n",
       "PS2           0.13      0.13      0.09\n",
       "PS3         168.26    163.10     49.39\n",
       "PS4         108.74    141.09     15.96\n",
       "PSP           2.19      1.77     24.04\n",
       "PSV          12.47     13.07     21.84\n",
       "Wii          48.56     29.60      8.97\n",
       "WiiU         38.10     25.13     13.01\n",
       "X360        226.80    117.10      3.35\n",
       "XOne         93.12     51.59      0.34"
      ]
     },
     "execution_count": 21,
     "metadata": {},
     "output_type": "execute_result"
    }
   ],
   "source": [
    "#Las cinco plataformas principales. Describe las variaciones en sus cuotas de mercado de una región a otra.\n",
    "\n",
    "platforms_region = games_new.groupby(by='platform').sum()[['na_sales', 'eu_sales', 'jp_sales']]\n",
    "platforms_region"
   ]
  },
  {
   "cell_type": "code",
   "execution_count": 22,
   "metadata": {},
   "outputs": [
    {
     "data": {
      "text/plain": [
       "platform\n",
       "X360    226.80\n",
       "PS3     168.26\n",
       "PS4     108.74\n",
       "XOne     93.12\n",
       "3DS      82.65\n",
       "Name: na_sales, dtype: float64"
      ]
     },
     "execution_count": 22,
     "metadata": {},
     "output_type": "execute_result"
    }
   ],
   "source": [
    "platforms_region.sort_values(by='na_sales', ascending=False).head()['na_sales']"
   ]
  },
  {
   "cell_type": "code",
   "execution_count": 23,
   "metadata": {},
   "outputs": [
    {
     "data": {
      "text/plain": [
       "platform\n",
       "PS3     163.10\n",
       "PS4     141.09\n",
       "X360    117.10\n",
       "3DS      61.27\n",
       "PC       56.70\n",
       "Name: eu_sales, dtype: float64"
      ]
     },
     "execution_count": 23,
     "metadata": {},
     "output_type": "execute_result"
    }
   ],
   "source": [
    "platforms_region.sort_values(by='eu_sales', ascending=False).head()['eu_sales']"
   ]
  },
  {
   "cell_type": "code",
   "execution_count": 24,
   "metadata": {},
   "outputs": [
    {
     "data": {
      "text/plain": [
       "platform\n",
       "3DS    100.62\n",
       "PS3     49.39\n",
       "PSP     24.04\n",
       "PSV     21.84\n",
       "PS4     15.96\n",
       "Name: jp_sales, dtype: float64"
      ]
     },
     "execution_count": 24,
     "metadata": {},
     "output_type": "execute_result"
    }
   ],
   "source": [
    "platforms_region.sort_values(by='jp_sales', ascending=False).head()['jp_sales']"
   ]
  },
  {
   "cell_type": "markdown",
   "metadata": {},
   "source": [
    "Como era de esperarse, cada región tiene difrentes plataformas de preferencia, me parece que es normal debido a el contexto social y cultural que diferecia a cada una de estás regiones. \n",
    "\n",
    "podemos ver que en NA el Xbox360 es la más vendida, por casi 80 mill USD sobre el PS3 y PS4.\n",
    "\n",
    "En EU PS es la platamorma princial, siendo le PS3 la que tiene más ventas y no muy atrás se encuentra PS4 y un poco abajo se encuentra la X360, que a diferencia de NA que estaba en primer lugar.\n",
    "\n",
    "En JP la X360 nisiquiera esta entee las principales, se encuentra en primer lugar la 3DS, y en segundo lugar PS3. Sin embargo podemos obervar que la venta de video juegos en JP es casi la mitad de la venta de NA y y mucho mas bajo que EU también!\n"
   ]
  },
  {
   "cell_type": "markdown",
   "metadata": {},
   "source": [
    "Los cinco géneros principales. Explica la diferencia."
   ]
  },
  {
   "cell_type": "code",
   "execution_count": 25,
   "metadata": {},
   "outputs": [
    {
     "data": {
      "text/html": [
       "<div>\n",
       "<style scoped>\n",
       "    .dataframe tbody tr th:only-of-type {\n",
       "        vertical-align: middle;\n",
       "    }\n",
       "\n",
       "    .dataframe tbody tr th {\n",
       "        vertical-align: top;\n",
       "    }\n",
       "\n",
       "    .dataframe thead th {\n",
       "        text-align: right;\n",
       "    }\n",
       "</style>\n",
       "<table border=\"1\" class=\"dataframe\">\n",
       "  <thead>\n",
       "    <tr style=\"text-align: right;\">\n",
       "      <th></th>\n",
       "      <th>na_sales</th>\n",
       "      <th>eu_sales</th>\n",
       "      <th>jp_sales</th>\n",
       "    </tr>\n",
       "    <tr>\n",
       "      <th>genre</th>\n",
       "      <th></th>\n",
       "      <th></th>\n",
       "      <th></th>\n",
       "    </tr>\n",
       "  </thead>\n",
       "  <tbody>\n",
       "    <tr>\n",
       "      <th>Action</th>\n",
       "      <td>230.92</td>\n",
       "      <td>199.12</td>\n",
       "      <td>63.62</td>\n",
       "    </tr>\n",
       "    <tr>\n",
       "      <th>Adventure</th>\n",
       "      <td>14.76</td>\n",
       "      <td>13.96</td>\n",
       "      <td>12.07</td>\n",
       "    </tr>\n",
       "    <tr>\n",
       "      <th>Fighting</th>\n",
       "      <td>31.63</td>\n",
       "      <td>16.24</td>\n",
       "      <td>12.38</td>\n",
       "    </tr>\n",
       "    <tr>\n",
       "      <th>Misc</th>\n",
       "      <td>69.69</td>\n",
       "      <td>39.72</td>\n",
       "      <td>17.60</td>\n",
       "    </tr>\n",
       "    <tr>\n",
       "      <th>Platform</th>\n",
       "      <td>38.28</td>\n",
       "      <td>30.07</td>\n",
       "      <td>12.13</td>\n",
       "    </tr>\n",
       "    <tr>\n",
       "      <th>Puzzle</th>\n",
       "      <td>2.74</td>\n",
       "      <td>3.56</td>\n",
       "      <td>2.91</td>\n",
       "    </tr>\n",
       "    <tr>\n",
       "      <th>Racing</th>\n",
       "      <td>31.98</td>\n",
       "      <td>40.58</td>\n",
       "      <td>5.64</td>\n",
       "    </tr>\n",
       "    <tr>\n",
       "      <th>Role-Playing</th>\n",
       "      <td>83.78</td>\n",
       "      <td>62.30</td>\n",
       "      <td>79.87</td>\n",
       "    </tr>\n",
       "    <tr>\n",
       "      <th>Shooter</th>\n",
       "      <td>194.43</td>\n",
       "      <td>148.02</td>\n",
       "      <td>11.92</td>\n",
       "    </tr>\n",
       "    <tr>\n",
       "      <th>Simulation</th>\n",
       "      <td>15.37</td>\n",
       "      <td>19.72</td>\n",
       "      <td>11.64</td>\n",
       "    </tr>\n",
       "    <tr>\n",
       "      <th>Sports</th>\n",
       "      <td>108.70</td>\n",
       "      <td>88.48</td>\n",
       "      <td>11.09</td>\n",
       "    </tr>\n",
       "    <tr>\n",
       "      <th>Strategy</th>\n",
       "      <td>7.48</td>\n",
       "      <td>8.02</td>\n",
       "      <td>4.78</td>\n",
       "    </tr>\n",
       "  </tbody>\n",
       "</table>\n",
       "</div>"
      ],
      "text/plain": [
       "              na_sales  eu_sales  jp_sales\n",
       "genre                                     \n",
       "Action          230.92    199.12     63.62\n",
       "Adventure        14.76     13.96     12.07\n",
       "Fighting         31.63     16.24     12.38\n",
       "Misc             69.69     39.72     17.60\n",
       "Platform         38.28     30.07     12.13\n",
       "Puzzle            2.74      3.56      2.91\n",
       "Racing           31.98     40.58      5.64\n",
       "Role-Playing     83.78     62.30     79.87\n",
       "Shooter         194.43    148.02     11.92\n",
       "Simulation       15.37     19.72     11.64\n",
       "Sports          108.70     88.48     11.09\n",
       "Strategy          7.48      8.02      4.78"
      ]
     },
     "execution_count": 25,
     "metadata": {},
     "output_type": "execute_result"
    }
   ],
   "source": [
    "games_new.groupby(by='genre').sum()[['na_sales', 'eu_sales', 'jp_sales']]"
   ]
  },
  {
   "cell_type": "code",
   "execution_count": 26,
   "metadata": {},
   "outputs": [
    {
     "data": {
      "text/plain": [
       "genre\n",
       "Action          230.92\n",
       "Shooter         194.43\n",
       "Sports          108.70\n",
       "Role-Playing     83.78\n",
       "Misc             69.69\n",
       "Name: na_sales, dtype: float64"
      ]
     },
     "execution_count": 26,
     "metadata": {},
     "output_type": "execute_result"
    }
   ],
   "source": [
    "#los más pupulares en NA\n",
    "games_new.groupby(by='genre').sum()['na_sales'].sort_values(ascending=False).head()\n"
   ]
  },
  {
   "cell_type": "code",
   "execution_count": 27,
   "metadata": {},
   "outputs": [
    {
     "data": {
      "text/plain": [
       "genre\n",
       "Action          199.12\n",
       "Shooter         148.02\n",
       "Sports           88.48\n",
       "Role-Playing     62.30\n",
       "Racing           40.58\n",
       "Name: eu_sales, dtype: float64"
      ]
     },
     "execution_count": 27,
     "metadata": {},
     "output_type": "execute_result"
    }
   ],
   "source": [
    "#los más pupulares en EU\n",
    "games_new.groupby(by='genre').sum()['eu_sales'].sort_values(ascending=False).head()"
   ]
  },
  {
   "cell_type": "code",
   "execution_count": 28,
   "metadata": {},
   "outputs": [
    {
     "data": {
      "text/plain": [
       "genre\n",
       "Role-Playing    79.87\n",
       "Action          63.62\n",
       "Misc            17.60\n",
       "Fighting        12.38\n",
       "Platform        12.13\n",
       "Name: jp_sales, dtype: float64"
      ]
     },
     "execution_count": 28,
     "metadata": {},
     "output_type": "execute_result"
    }
   ],
   "source": [
    "#los más pupulares en JP\n",
    "games_new.groupby(by='genre').sum()['jp_sales'].sort_values(ascending=False).head()"
   ]
  },
  {
   "cell_type": "markdown",
   "metadata": {},
   "source": [
    "Al igual que en las consolas, también existe una variabilidad de géneros por región. Sin embargo, se puede obervar que en todas acción y shooter estan presentes en los primeros lugares, solo en JP supera el generon Role-Playing. Pero tanto en NA como en EU el principal es acción, seguido de shooter y depués deportes. "
   ]
  },
  {
   "cell_type": "markdown",
   "metadata": {},
   "source": [
    "Si las clasificaciones de ESRB afectan a las ventas en regiones individuales."
   ]
  },
  {
   "cell_type": "code",
   "execution_count": null,
   "metadata": {},
   "outputs": [],
   "source": []
  },
  {
   "cell_type": "code",
   "execution_count": 29,
   "metadata": {},
   "outputs": [
    {
     "data": {
      "text/plain": [
       "rating\n",
       "M       308.45\n",
       "E       170.17\n",
       "        123.69\n",
       "E10+    117.72\n",
       "T       109.31\n",
       "Name: na_sales, dtype: float64"
      ]
     },
     "execution_count": 29,
     "metadata": {},
     "output_type": "execute_result"
    }
   ],
   "source": [
    "#rating y ventas en NA\n",
    "games_new.groupby(by='rating').sum()['na_sales'].sort_values(ascending=False).head()"
   ]
  },
  {
   "cell_type": "code",
   "execution_count": 30,
   "metadata": {},
   "outputs": [
    {
     "data": {
      "text/plain": [
       "rating\n",
       "M       250.26\n",
       "E       141.73\n",
       "        116.61\n",
       "T        83.16\n",
       "E10+     78.00\n",
       "Name: eu_sales, dtype: float64"
      ]
     },
     "execution_count": 30,
     "metadata": {},
     "output_type": "execute_result"
    }
   ],
   "source": [
    "#rating y ventas en EU\n",
    "games_new.groupby(by='rating').sum()['eu_sales'].sort_values(ascending=False).head()"
   ]
  },
  {
   "cell_type": "code",
   "execution_count": 31,
   "metadata": {},
   "outputs": [
    {
     "data": {
      "text/plain": [
       "rating\n",
       "        138.21\n",
       "E        36.68\n",
       "T        33.39\n",
       "M        26.14\n",
       "E10+     11.23\n",
       "Name: jp_sales, dtype: float64"
      ]
     },
     "execution_count": 31,
     "metadata": {},
     "output_type": "execute_result"
    }
   ],
   "source": [
    "#rating y ventas en JP\n",
    "games_new.groupby(by='rating').sum()['jp_sales'].sort_values(ascending=False).head()"
   ]
  },
  {
   "cell_type": "code",
   "execution_count": 32,
   "metadata": {},
   "outputs": [
    {
     "data": {
      "text/plain": [
       "<AxesSubplot:>"
      ]
     },
     "execution_count": 32,
     "metadata": {},
     "output_type": "execute_result"
    },
    {
     "data": {
      "image/png": "[encoded data removed]",
      "text/plain": [
       "<Figure size 640x480 with 1 Axes>"
      ]
     },
     "metadata": {},
     "output_type": "display_data"
    }
   ],
   "source": [
    "#Gráfica para mejor visualización\n",
    "games_new.groupby(by=\"rating\").sum()[[\"na_sales\", \"eu_sales\", \"jp_sales\"]\n",
    "].transpose().plot(kind=\"bar\", rot=0)"
   ]
  },
  {
   "cell_type": "markdown",
   "metadata": {},
   "source": [
    "Basandonos en estos datos, podemos observar que la ausencia de datos si tiene un impacto aqui ya que representa un número importante en todas las regiones. Por otro lado, en todas la regiones la clasificación que más impacta es la M, exepto en JP. En NA después de la M la E es la más fuerte. siendo la T la que menos vende. En EU es casi similar que en NA solo que la T es ligeramente mayor que la E10+. Y finalmente en JP que representa la menos cantidad de ventas los datos ausentes son la mayoría, y las démas estar casi iguales, siendo tambien la E10+ la menos vendida."
   ]
  },
  {
   "cell_type": "markdown",
   "metadata": {},
   "source": [
    "<div class=\"alert alert-block alert-warning\">\n",
    "<b>Comentario del revisor (1ra Iteración)</b> <a class=“tocSkip”></a>\n",
    "\n",
    "Los valores son correctos. Sin embargo, recuerda que los seres humanos somos principalmente visuales. Por lo tanto, cuando manejes este tipo de información, una buena práctica es acompañarla de una gráfica. Esto facilita el estudio y el análisis de los datos. De hecho, puedes usar el mismo tipo de gráfica que usaste para mostrar los *rating*, aunque para esta te invito a probar cambiar la forma de presentar la información colocando los *rating* en el eje X e identificando por colores las Regiones (na, eu, jp)\n",
    "\n",
    "</div>"
   ]
  },
  {
   "cell_type": "markdown",
   "metadata": {},
   "source": [
    "# Paso 5. Prueba las siguientes hipótesis:"
   ]
  },
  {
   "cell_type": "markdown",
   "metadata": {},
   "source": [
    "— Las calificaciones promedio de los usuarios para las plataformas Xbox One y PC son las mismas.\n",
    "\n",
    "— Las calificaciones promedio de los usuarios para los géneros de Acción y Deportes son diferentes."
   ]
  },
  {
   "cell_type": "code",
   "execution_count": 33,
   "metadata": {},
   "outputs": [
    {
     "name": "stdout",
     "output_type": "stream",
     "text": [
      "Número de calificaciones de usuario para XOne:  236\n",
      "Número de calificaciones de usuario para PC:  371\n",
      "\n",
      "Calificacion promedio de usuarios para XOne:  6.87\n",
      "Calificacion promedio de usuarios para PC:  6.73\n",
      "\n",
      "Desv.std de calificaciones de usuarios para XOne:  1.37\n",
      "Desv.std de calificaciones de usuarios para PC:  1.59\n"
     ]
    }
   ],
   "source": [
    "#Las calificaciones promedio de los usuarios para las plataformas Xbox One y PC son las mismas\n",
    "\n",
    "# Obtenemos la informacion de calificaciones de los usuarios para cada plataforma, excluimos juegos sin calificacion\n",
    "score_xone = games_new[(games_new['platform'] == 'XOne')& (games_new['user_score'].notna()) & (games_new['user_score'] <= 10)]['user_score']\n",
    "score_pc = games_new[\n",
    "    (games_new['platform'] == 'PC')& (games_new['user_score'].notna())& (games_new['user_score'] <= 10)]['user_score']\n",
    "\n",
    "print('Número de calificaciones de usuario para XOne: ', score_xone.size)\n",
    "print('Número de calificaciones de usuario para PC: ', score_pc.size)\n",
    "print()\n",
    "print('Calificacion promedio de usuarios para XOne: ', round(score_xone.mean(), 2))\n",
    "print('Calificacion promedio de usuarios para PC: ', round(score_pc.mean(), 2))\n",
    "print()\n",
    "print('Desv.std de calificaciones de usuarios para XOne: ',\n",
    "    round(score_xone.std(), 2),\n",
    ")\n",
    "print('Desv.std de calificaciones de usuarios para PC: ', round(score_pc.std(), 2))"
   ]
  },
  {
   "cell_type": "code",
   "execution_count": 34,
   "metadata": {},
   "outputs": [
    {
     "name": "stdout",
     "output_type": "stream",
     "text": [
      "valor p: 0.23562782727234943\n",
      "No podemos rechazar la hipótesis nula: No tenemos suficiente evidencia de que las calificaciones promedio sean diferentes\n"
     ]
    }
   ],
   "source": [
    "#prueba de hipotesis para dos muestras\n",
    "alpha = 0.05  \n",
    "\n",
    "results = st.ttest_ind(score_xone, score_pc, equal_var=False)\n",
    "  # prueba la hipótesis nula de que las dos muestras son iguales \n",
    "\n",
    "print('valor p:', results.pvalue)\n",
    "\n",
    "if results.pvalue < alpha:\n",
    "    print(\n",
    "        'Rechazamos la hipótesis nula: Las calificaciones promedio de XOne y PC no son iguales'\n",
    "    )\n",
    "else:\n",
    "    print(\n",
    "        'No podemos rechazar la hipótesis nula: No tenemos suficiente evidencia de que las calificaciones promedio sean diferentes'\n",
    "    )"
   ]
  },
  {
   "cell_type": "code",
   "execution_count": 35,
   "metadata": {},
   "outputs": [
    {
     "name": "stdout",
     "output_type": "stream",
     "text": [
      "Número de calificaciones de usuario para Acción:  1188\n",
      "Número de calificaciones de usuario para Deportes:  340\n",
      "\n",
      "Calificacion promedio de usuarios para Acción:  7.34\n",
      "Calificacion promedio de usuarios para Deportes:  6.32\n",
      "\n",
      "Desv.std de calificaciones de usuarios para Acción:  1.19\n",
      "Desv.std de calificaciones de usuarios para Deportes:  1.8\n"
     ]
    }
   ],
   "source": [
    "#Las calificaciones promedio de los usuarios para los géneros de Acción y Deportes son diferentes.\n",
    "\n",
    "score_action = games_new[(games_new['genre'] == 'Action')& (games_new['user_score'].notna()) & (games_new['user_score'] <= 10)]['user_score']\n",
    "score_sports = games_new[\n",
    "    (games_new['genre'] == 'Sports')& (games_new['user_score'].notna())& (games_new['user_score'] <= 10)]['user_score']\n",
    "\n",
    "print('Número de calificaciones de usuario para Acción: ', score_action.size)\n",
    "print('Número de calificaciones de usuario para Deportes: ', score_sports.size)\n",
    "print()\n",
    "print('Calificacion promedio de usuarios para Acción: ', round(score_action.mean(), 2))\n",
    "print('Calificacion promedio de usuarios para Deportes: ', round(score_sports.mean(), 2))\n",
    "print()\n",
    "print(\n",
    "    'Desv.std de calificaciones de usuarios para Acción: ',\n",
    "    round(score_action.std(), 2),\n",
    ")\n",
    "print('Desv.std de calificaciones de usuarios para Deportes: ', round(score_sports.std(), 2))"
   ]
  },
  {
   "cell_type": "code",
   "execution_count": 36,
   "metadata": {},
   "outputs": [
    {
     "name": "stdout",
     "output_type": "stream",
     "text": [
      "valor p: 6.5413341602843235e-21\n",
      "Rechazamos la hipótesis nula: Las calificaciones promedio de Acción y Deportes son diferentes\n"
     ]
    }
   ],
   "source": [
    "#prueba de hipotesis para dos muestras\n",
    "alpha = 0.05  \n",
    "\n",
    "results = st.ttest_ind(score_action, score_sports, equal_var=False)\n",
    "  # prueba la hipótesis nula de que las dos muestras son iguales\n",
    "\n",
    "print('valor p:', results.pvalue)\n",
    "\n",
    "if results.pvalue < alpha:\n",
    "    print(\n",
    "        'Rechazamos la hipótesis nula: Las calificaciones promedio de Acción y Deportes son diferentes'\n",
    "    )\n",
    "else:\n",
    "    print(\n",
    "        'No podemos rechazar la hipótesis nula: No tenemos suficiente evidencia de que las calificaciones promedio sean diferentes'\n",
    "    )"
   ]
  },
  {
   "cell_type": "markdown",
   "metadata": {},
   "source": [
    "En conclusión, podemos ver que lasplataformas de videojuegos estan en constante cambio, ya que quizas ahorita la PS3 y X360 son las que estan en las más vendidas, sin embargo ya vimos que existe una PS4 que en un futuro puede tener más ventas que la PS3 para el siguiente año por ser más nueva. Lo mismo pasa con Xbox, hay que revisar si la marca piensa sacar una nueva plataforma para el proximo año. Sin embargo, podemos basarnos en los generos y juegos que han tenido mayor auge, que aunque los juegos tambien tengan nuevas versiones, ya podemos darnos una idea de los que más busca la gente, independientemente de las criticas que tengan. \n",
    "\n",
    "por otro lado, con la hipotesis podemos ver que con los datos que tenemos, las muestras de PS y Xone son iguales. Que con todos los datos obtenidos, pudimos también observar que son las plataformas más vendidas. al menos en NA y EU, mientras que en los géneros, de deportes y acción si hub diferencia, y me parece que es porque los juegos de acción tiene considerablemente m"
   ]
  },
  {
   "cell_type": "markdown",
   "metadata": {},
   "source": [
    "<div class=\"alert alert-block alert-success\">\n",
    "<b>Comentario del revisor (1ra Iteración)</b> <a class=“tocSkip”></a>\n",
    "    \n",
    "Excelente implementación de las pruebas de hipótesis,  tu análisis es detallado y demuestra una buena comprensión tanto de los resultados estadísticos como de su relevancia en el contexto de la industria de los videojuegos. \n",
    "</div>"
   ]
  }
 ],
 "metadata": {
  "ExecuteTimeLog": [
   {
    "duration": 160,
    "start_time": "2024-11-05T19:42:22.112Z"
   },
   {
    "duration": 2457,
    "start_time": "2024-11-05T19:42:26.096Z"
   },
   {
    "duration": 427,
    "start_time": "2024-11-05T19:42:28.556Z"
   },
   {
    "duration": 5,
    "start_time": "2024-11-05T19:43:08.087Z"
   },
   {
    "duration": 4,
    "start_time": "2024-11-05T19:43:13.852Z"
   },
   {
    "duration": 34,
    "start_time": "2024-11-05T19:43:21.106Z"
   },
   {
    "duration": 36,
    "start_time": "2024-11-05T19:43:27.373Z"
   },
   {
    "duration": 16,
    "start_time": "2024-11-05T19:56:48.781Z"
   },
   {
    "duration": 12,
    "start_time": "2024-11-05T19:57:55.378Z"
   },
   {
    "duration": 15,
    "start_time": "2024-11-05T19:59:11.341Z"
   },
   {
    "duration": 529,
    "start_time": "2024-11-05T19:59:48.663Z"
   },
   {
    "duration": 48,
    "start_time": "2024-11-05T20:00:13.221Z"
   },
   {
    "duration": 29,
    "start_time": "2024-11-05T20:01:24.597Z"
   },
   {
    "duration": 13,
    "start_time": "2024-11-05T20:10:38.696Z"
   },
   {
    "duration": 6,
    "start_time": "2024-11-05T20:24:56.829Z"
   },
   {
    "duration": 13,
    "start_time": "2024-11-05T20:25:06.305Z"
   },
   {
    "duration": 11,
    "start_time": "2024-11-05T20:25:59.304Z"
   },
   {
    "duration": 10,
    "start_time": "2024-11-05T20:26:11.564Z"
   },
   {
    "duration": 2500,
    "start_time": "2024-11-06T19:43:22.550Z"
   },
   {
    "duration": 49,
    "start_time": "2024-11-06T19:43:25.052Z"
   },
   {
    "duration": 16,
    "start_time": "2024-11-06T19:43:25.103Z"
   },
   {
    "duration": 29,
    "start_time": "2024-11-06T19:43:25.120Z"
   },
   {
    "duration": 12,
    "start_time": "2024-11-06T19:43:25.170Z"
   },
   {
    "duration": 3,
    "start_time": "2024-11-06T19:43:25.184Z"
   },
   {
    "duration": 19,
    "start_time": "2024-11-06T19:47:29.505Z"
   },
   {
    "duration": 20,
    "start_time": "2024-11-06T19:53:24.463Z"
   },
   {
    "duration": 244,
    "start_time": "2024-11-06T19:54:08.372Z"
   },
   {
    "duration": 16,
    "start_time": "2024-11-06T19:54:55.889Z"
   },
   {
    "duration": 18,
    "start_time": "2024-11-06T20:10:33.844Z"
   },
   {
    "duration": 163,
    "start_time": "2024-11-07T00:01:37.536Z"
   },
   {
    "duration": 2455,
    "start_time": "2024-11-07T00:01:43.096Z"
   },
   {
    "duration": 50,
    "start_time": "2024-11-07T00:01:45.554Z"
   },
   {
    "duration": 15,
    "start_time": "2024-11-07T00:01:45.606Z"
   },
   {
    "duration": 28,
    "start_time": "2024-11-07T00:01:45.624Z"
   },
   {
    "duration": 11,
    "start_time": "2024-11-07T00:01:45.654Z"
   },
   {
    "duration": 42,
    "start_time": "2024-11-07T00:01:45.667Z"
   },
   {
    "duration": 17,
    "start_time": "2024-11-07T00:01:45.711Z"
   },
   {
    "duration": 16,
    "start_time": "2024-11-07T00:07:06.666Z"
   },
   {
    "duration": 21,
    "start_time": "2024-11-07T00:07:44.781Z"
   },
   {
    "duration": 2,
    "start_time": "2024-11-07T00:15:25.316Z"
   },
   {
    "duration": 470,
    "start_time": "2024-11-07T00:16:45.015Z"
   },
   {
    "duration": 142,
    "start_time": "2024-11-07T00:16:57.154Z"
   },
   {
    "duration": 17,
    "start_time": "2024-11-07T00:18:54.980Z"
   },
   {
    "duration": 14,
    "start_time": "2024-11-07T00:19:02.350Z"
   },
   {
    "duration": 7,
    "start_time": "2024-11-07T00:19:41.257Z"
   },
   {
    "duration": 16,
    "start_time": "2024-11-07T00:19:49.722Z"
   },
   {
    "duration": 8,
    "start_time": "2024-11-07T00:20:02.980Z"
   },
   {
    "duration": 15,
    "start_time": "2024-11-07T00:21:01.617Z"
   },
   {
    "duration": 2514,
    "start_time": "2024-11-08T18:57:30.831Z"
   },
   {
    "duration": 56,
    "start_time": "2024-11-08T18:57:33.347Z"
   },
   {
    "duration": 17,
    "start_time": "2024-11-08T18:57:33.405Z"
   },
   {
    "duration": 37,
    "start_time": "2024-11-08T18:57:33.425Z"
   },
   {
    "duration": 13,
    "start_time": "2024-11-08T18:57:33.464Z"
   },
   {
    "duration": 24,
    "start_time": "2024-11-08T18:57:33.479Z"
   },
   {
    "duration": 39,
    "start_time": "2024-11-08T18:57:33.504Z"
   },
   {
    "duration": 141,
    "start_time": "2024-11-08T18:57:33.545Z"
   },
   {
    "duration": 119,
    "start_time": "2024-11-08T19:07:01.272Z"
   },
   {
    "duration": 111,
    "start_time": "2024-11-08T19:12:22.840Z"
   },
   {
    "duration": 110,
    "start_time": "2024-11-08T19:13:43.736Z"
   },
   {
    "duration": 7,
    "start_time": "2024-11-08T19:18:44.183Z"
   },
   {
    "duration": 7,
    "start_time": "2024-11-08T19:19:22.042Z"
   },
   {
    "duration": 10,
    "start_time": "2024-11-08T19:19:33.241Z"
   },
   {
    "duration": 7,
    "start_time": "2024-11-08T19:20:59.374Z"
   },
   {
    "duration": 190,
    "start_time": "2024-11-08T19:22:23.936Z"
   },
   {
    "duration": 6,
    "start_time": "2024-11-08T19:25:23.722Z"
   },
   {
    "duration": 5,
    "start_time": "2024-11-08T19:25:33.535Z"
   },
   {
    "duration": 481,
    "start_time": "2024-11-08T19:26:09.116Z"
   },
   {
    "duration": 204,
    "start_time": "2024-11-08T19:26:19.810Z"
   },
   {
    "duration": 6,
    "start_time": "2024-11-08T19:28:10.122Z"
   },
   {
    "duration": 464,
    "start_time": "2024-11-08T19:38:17.110Z"
   },
   {
    "duration": 19,
    "start_time": "2024-11-08T19:38:51.947Z"
   },
   {
    "duration": 7,
    "start_time": "2024-11-08T19:40:29.423Z"
   },
   {
    "duration": 107,
    "start_time": "2024-11-08T19:41:03.395Z"
   },
   {
    "duration": 124,
    "start_time": "2024-11-08T19:41:26.338Z"
   },
   {
    "duration": 84,
    "start_time": "2024-11-08T20:03:41.403Z"
   },
   {
    "duration": 167,
    "start_time": "2024-11-08T20:04:53.817Z"
   },
   {
    "duration": 44,
    "start_time": "2024-11-08T20:05:44.884Z"
   },
   {
    "duration": 5,
    "start_time": "2024-11-08T20:09:47.768Z"
   },
   {
    "duration": 245,
    "start_time": "2024-11-08T20:10:09.866Z"
   },
   {
    "duration": 5,
    "start_time": "2024-11-08T20:12:30.575Z"
   },
   {
    "duration": 179,
    "start_time": "2024-11-08T20:12:47.256Z"
   },
   {
    "duration": 188,
    "start_time": "2024-11-08T20:16:17.318Z"
   },
   {
    "duration": 187,
    "start_time": "2024-11-08T20:16:36.151Z"
   },
   {
    "duration": 178,
    "start_time": "2024-11-08T20:16:54.311Z"
   },
   {
    "duration": 180,
    "start_time": "2024-11-08T20:17:05.841Z"
   },
   {
    "duration": 225,
    "start_time": "2024-11-08T20:17:58.087Z"
   },
   {
    "duration": 277,
    "start_time": "2024-11-08T20:18:27.785Z"
   },
   {
    "duration": 181,
    "start_time": "2024-11-08T20:19:07.394Z"
   },
   {
    "duration": 168,
    "start_time": "2024-11-08T20:19:15.358Z"
   },
   {
    "duration": 172,
    "start_time": "2024-11-08T20:19:23.046Z"
   },
   {
    "duration": 271,
    "start_time": "2024-11-08T20:19:34.849Z"
   },
   {
    "duration": 225,
    "start_time": "2024-11-08T20:20:16.950Z"
   },
   {
    "duration": 185,
    "start_time": "2024-11-08T20:20:44.325Z"
   },
   {
    "duration": 186,
    "start_time": "2024-11-08T20:20:56.313Z"
   },
   {
    "duration": 319,
    "start_time": "2024-11-08T20:21:04.930Z"
   },
   {
    "duration": 175,
    "start_time": "2024-11-08T20:21:27.285Z"
   },
   {
    "duration": 185,
    "start_time": "2024-11-08T20:21:57.529Z"
   },
   {
    "duration": 210,
    "start_time": "2024-11-08T20:22:12.353Z"
   },
   {
    "duration": 190,
    "start_time": "2024-11-08T20:24:22.661Z"
   },
   {
    "duration": 40,
    "start_time": "2024-11-09T22:24:07.425Z"
   },
   {
    "duration": 16,
    "start_time": "2024-11-09T22:24:07.466Z"
   },
   {
    "duration": 45,
    "start_time": "2024-11-09T22:24:07.483Z"
   },
   {
    "duration": 13,
    "start_time": "2024-11-09T22:24:07.530Z"
   },
   {
    "duration": 19,
    "start_time": "2024-11-09T22:24:07.545Z"
   },
   {
    "duration": 18,
    "start_time": "2024-11-09T22:24:08.084Z"
   },
   {
    "duration": 111,
    "start_time": "2024-11-09T22:24:08.104Z"
   },
   {
    "duration": 216,
    "start_time": "2024-11-09T22:24:09.661Z"
   },
   {
    "duration": 4,
    "start_time": "2024-11-09T22:24:09.880Z"
   },
   {
    "duration": 16,
    "start_time": "2024-11-09T22:24:09.886Z"
   },
   {
    "duration": 22,
    "start_time": "2024-11-09T22:24:09.904Z"
   },
   {
    "duration": 176,
    "start_time": "2024-11-09T22:24:09.928Z"
   },
   {
    "duration": 204,
    "start_time": "2024-11-09T22:24:10.106Z"
   },
   {
    "duration": 2,
    "start_time": "2024-11-09T22:24:17.654Z"
   },
   {
    "duration": 33,
    "start_time": "2024-11-09T22:24:17.658Z"
   },
   {
    "duration": 15,
    "start_time": "2024-11-09T22:24:17.693Z"
   },
   {
    "duration": 231,
    "start_time": "2024-11-09T22:36:32.729Z"
   },
   {
    "duration": 65,
    "start_time": "2024-11-09T22:36:40.220Z"
   },
   {
    "duration": 345,
    "start_time": "2024-11-09T22:36:44.395Z"
   },
   {
    "duration": 313,
    "start_time": "2024-11-09T22:37:25.817Z"
   },
   {
    "duration": 420,
    "start_time": "2024-11-09T22:38:43.567Z"
   },
   {
    "duration": 321,
    "start_time": "2024-11-09T22:40:10.922Z"
   },
   {
    "duration": 331,
    "start_time": "2024-11-09T22:40:45.524Z"
   },
   {
    "duration": 5,
    "start_time": "2024-11-09T22:45:25.542Z"
   },
   {
    "duration": 52,
    "start_time": "2024-11-09T22:45:41.150Z"
   },
   {
    "duration": 19,
    "start_time": "2024-11-09T22:46:24.407Z"
   },
   {
    "duration": 4,
    "start_time": "2024-11-09T22:46:57.772Z"
   },
   {
    "duration": 16,
    "start_time": "2024-11-09T22:47:10.522Z"
   },
   {
    "duration": 24,
    "start_time": "2024-11-09T22:49:59.748Z"
   },
   {
    "duration": 12,
    "start_time": "2024-11-09T22:53:10.845Z"
   },
   {
    "duration": 2740,
    "start_time": "2024-11-11T19:31:13.678Z"
   },
   {
    "duration": 63,
    "start_time": "2024-11-11T19:31:16.421Z"
   },
   {
    "duration": 16,
    "start_time": "2024-11-11T19:31:16.486Z"
   },
   {
    "duration": 28,
    "start_time": "2024-11-11T19:31:16.504Z"
   },
   {
    "duration": 10,
    "start_time": "2024-11-11T19:31:16.536Z"
   },
   {
    "duration": 44,
    "start_time": "2024-11-11T19:31:16.548Z"
   },
   {
    "duration": 18,
    "start_time": "2024-11-11T19:31:16.594Z"
   },
   {
    "duration": 145,
    "start_time": "2024-11-11T19:31:16.613Z"
   },
   {
    "duration": 220,
    "start_time": "2024-11-11T19:31:16.760Z"
   },
   {
    "duration": 6,
    "start_time": "2024-11-11T19:31:16.982Z"
   },
   {
    "duration": 17,
    "start_time": "2024-11-11T19:31:16.989Z"
   },
   {
    "duration": 6,
    "start_time": "2024-11-11T19:31:17.008Z"
   },
   {
    "duration": 157,
    "start_time": "2024-11-11T19:31:17.015Z"
   },
   {
    "duration": 215,
    "start_time": "2024-11-11T19:31:17.176Z"
   },
   {
    "duration": 399,
    "start_time": "2024-11-11T19:31:17.393Z"
   },
   {
    "duration": 352,
    "start_time": "2024-11-11T19:31:17.794Z"
   },
   {
    "duration": 18,
    "start_time": "2024-11-11T19:31:18.148Z"
   },
   {
    "duration": 167187,
    "start_time": "2024-11-11T19:31:18.168Z"
   },
   {
    "duration": 865,
    "start_time": "2024-11-11T19:34:05.357Z"
   },
   {
    "duration": 102,
    "start_time": "2024-11-11T19:36:09.969Z"
   },
   {
    "duration": 134,
    "start_time": "2024-11-11T19:37:23.124Z"
   },
   {
    "duration": 125,
    "start_time": "2024-11-11T19:37:52.373Z"
   },
   {
    "duration": 16,
    "start_time": "2024-11-11T19:38:28.569Z"
   },
   {
    "duration": 19,
    "start_time": "2024-11-11T19:38:49.168Z"
   },
   {
    "duration": 811,
    "start_time": "2024-11-11T19:39:20.098Z"
   },
   {
    "duration": 15,
    "start_time": "2024-11-11T19:39:47.426Z"
   },
   {
    "duration": 232,
    "start_time": "2024-11-11T19:40:17.283Z"
   },
   {
    "duration": 19,
    "start_time": "2024-11-11T19:40:52.373Z"
   },
   {
    "duration": 25,
    "start_time": "2024-11-11T19:41:31.378Z"
   },
   {
    "duration": 11,
    "start_time": "2024-11-11T19:43:47.370Z"
   },
   {
    "duration": 117,
    "start_time": "2024-11-11T19:44:31.073Z"
   },
   {
    "duration": 129,
    "start_time": "2024-11-11T19:44:48.168Z"
   },
   {
    "duration": 6,
    "start_time": "2024-11-11T19:58:10.346Z"
   },
   {
    "duration": 23,
    "start_time": "2024-11-11T19:58:26.101Z"
   },
   {
    "duration": 16,
    "start_time": "2024-11-11T19:58:35.253Z"
   },
   {
    "duration": 15,
    "start_time": "2024-11-11T19:58:56.685Z"
   },
   {
    "duration": 13,
    "start_time": "2024-11-11T20:01:26.910Z"
   },
   {
    "duration": 7,
    "start_time": "2024-11-11T20:01:33.925Z"
   },
   {
    "duration": 6,
    "start_time": "2024-11-11T20:05:47.498Z"
   },
   {
    "duration": 5,
    "start_time": "2024-11-11T20:06:04.420Z"
   },
   {
    "duration": 14,
    "start_time": "2024-11-11T20:14:59.664Z"
   },
   {
    "duration": 13,
    "start_time": "2024-11-11T20:15:08.878Z"
   },
   {
    "duration": 19,
    "start_time": "2024-11-11T20:16:54.692Z"
   },
   {
    "duration": 11,
    "start_time": "2024-11-11T20:17:00.837Z"
   },
   {
    "duration": 9,
    "start_time": "2024-11-11T20:17:26.689Z"
   },
   {
    "duration": 9,
    "start_time": "2024-11-11T20:17:34.690Z"
   },
   {
    "duration": 9,
    "start_time": "2024-11-11T20:17:40.997Z"
   },
   {
    "duration": 9,
    "start_time": "2024-11-11T20:18:03.207Z"
   },
   {
    "duration": 10,
    "start_time": "2024-11-11T20:18:18.729Z"
   },
   {
    "duration": 9,
    "start_time": "2024-11-11T20:18:44.059Z"
   },
   {
    "duration": 12,
    "start_time": "2024-11-11T20:24:41.857Z"
   },
   {
    "duration": 9,
    "start_time": "2024-11-11T20:25:25.690Z"
   },
   {
    "duration": 9,
    "start_time": "2024-11-11T20:26:16.893Z"
   },
   {
    "duration": 10,
    "start_time": "2024-11-11T20:26:53.984Z"
   },
   {
    "duration": 177,
    "start_time": "2024-11-11T20:28:48.965Z"
   },
   {
    "duration": 173,
    "start_time": "2024-11-11T20:28:58.947Z"
   },
   {
    "duration": 4,
    "start_time": "2024-11-11T20:29:18.095Z"
   },
   {
    "duration": 191,
    "start_time": "2024-11-11T20:29:27.827Z"
   },
   {
    "duration": 166,
    "start_time": "2024-11-11T22:50:18.985Z"
   },
   {
    "duration": 2618,
    "start_time": "2024-11-11T22:51:36.026Z"
   },
   {
    "duration": 50,
    "start_time": "2024-11-11T22:51:38.646Z"
   },
   {
    "duration": 17,
    "start_time": "2024-11-11T22:51:38.697Z"
   },
   {
    "duration": 32,
    "start_time": "2024-11-11T22:51:38.717Z"
   },
   {
    "duration": 12,
    "start_time": "2024-11-11T22:51:38.752Z"
   },
   {
    "duration": 21,
    "start_time": "2024-11-11T22:51:38.765Z"
   },
   {
    "duration": 16,
    "start_time": "2024-11-11T22:51:38.788Z"
   },
   {
    "duration": 216,
    "start_time": "2024-11-11T22:51:38.806Z"
   },
   {
    "duration": 214,
    "start_time": "2024-11-11T22:51:39.024Z"
   },
   {
    "duration": 6,
    "start_time": "2024-11-11T22:51:39.240Z"
   },
   {
    "duration": 16,
    "start_time": "2024-11-11T22:51:39.248Z"
   },
   {
    "duration": 5,
    "start_time": "2024-11-11T22:51:39.266Z"
   },
   {
    "duration": 153,
    "start_time": "2024-11-11T22:51:39.273Z"
   },
   {
    "duration": 223,
    "start_time": "2024-11-11T22:51:39.433Z"
   },
   {
    "duration": 348,
    "start_time": "2024-11-11T22:51:39.658Z"
   },
   {
    "duration": 341,
    "start_time": "2024-11-11T22:51:40.009Z"
   },
   {
    "duration": 14,
    "start_time": "2024-11-11T22:51:40.352Z"
   },
   {
    "duration": 123,
    "start_time": "2024-11-11T22:51:40.368Z"
   },
   {
    "duration": 9,
    "start_time": "2024-11-11T22:51:40.493Z"
   },
   {
    "duration": 153,
    "start_time": "2024-11-11T22:51:40.504Z"
   },
   {
    "duration": 15,
    "start_time": "2024-11-11T22:51:40.659Z"
   },
   {
    "duration": 5,
    "start_time": "2024-11-11T22:51:40.677Z"
   },
   {
    "duration": 5,
    "start_time": "2024-11-11T22:51:40.684Z"
   },
   {
    "duration": 6,
    "start_time": "2024-11-11T22:51:40.690Z"
   },
   {
    "duration": 43,
    "start_time": "2024-11-11T22:51:40.698Z"
   },
   {
    "duration": 8,
    "start_time": "2024-11-11T22:51:40.744Z"
   },
   {
    "duration": 7,
    "start_time": "2024-11-11T22:51:40.754Z"
   },
   {
    "duration": 7,
    "start_time": "2024-11-11T22:51:40.763Z"
   },
   {
    "duration": 7,
    "start_time": "2024-11-11T22:51:40.772Z"
   },
   {
    "duration": 8,
    "start_time": "2024-11-11T22:51:40.781Z"
   },
   {
    "duration": 44,
    "start_time": "2024-11-11T22:51:40.790Z"
   },
   {
    "duration": 177,
    "start_time": "2024-11-11T22:51:40.836Z"
   },
   {
    "duration": 117,
    "start_time": "2024-11-11T22:51:41.015Z"
   },
   {
    "duration": 10,
    "start_time": "2024-11-11T22:51:51.457Z"
   },
   {
    "duration": 2543,
    "start_time": "2024-11-12T18:43:20.094Z"
   },
   {
    "duration": 50,
    "start_time": "2024-11-12T18:43:22.640Z"
   },
   {
    "duration": 16,
    "start_time": "2024-11-12T18:43:22.691Z"
   },
   {
    "duration": 28,
    "start_time": "2024-11-12T18:43:22.709Z"
   },
   {
    "duration": 10,
    "start_time": "2024-11-12T18:43:22.739Z"
   },
   {
    "duration": 44,
    "start_time": "2024-11-12T18:43:22.752Z"
   },
   {
    "duration": 17,
    "start_time": "2024-11-12T18:43:22.797Z"
   },
   {
    "duration": 132,
    "start_time": "2024-11-12T18:43:22.815Z"
   },
   {
    "duration": 231,
    "start_time": "2024-11-12T18:43:22.949Z"
   },
   {
    "duration": 7,
    "start_time": "2024-11-12T18:43:23.183Z"
   },
   {
    "duration": 23,
    "start_time": "2024-11-12T18:43:23.196Z"
   },
   {
    "duration": 8,
    "start_time": "2024-11-12T18:43:23.221Z"
   },
   {
    "duration": 139,
    "start_time": "2024-11-12T18:43:23.230Z"
   },
   {
    "duration": 228,
    "start_time": "2024-11-12T18:43:23.371Z"
   },
   {
    "duration": 388,
    "start_time": "2024-11-12T18:43:23.601Z"
   },
   {
    "duration": 340,
    "start_time": "2024-11-12T18:43:23.991Z"
   },
   {
    "duration": 13,
    "start_time": "2024-11-12T18:43:24.333Z"
   },
   {
    "duration": 114,
    "start_time": "2024-11-12T18:43:24.348Z"
   },
   {
    "duration": 9,
    "start_time": "2024-11-12T18:43:24.464Z"
   },
   {
    "duration": 144,
    "start_time": "2024-11-12T18:43:24.486Z"
   },
   {
    "duration": 14,
    "start_time": "2024-11-12T18:43:24.632Z"
   },
   {
    "duration": 5,
    "start_time": "2024-11-12T18:43:24.648Z"
   },
   {
    "duration": 5,
    "start_time": "2024-11-12T18:43:24.655Z"
   },
   {
    "duration": 27,
    "start_time": "2024-11-12T18:43:24.662Z"
   },
   {
    "duration": 11,
    "start_time": "2024-11-12T18:43:24.691Z"
   },
   {
    "duration": 7,
    "start_time": "2024-11-12T18:43:24.703Z"
   },
   {
    "duration": 8,
    "start_time": "2024-11-12T18:43:24.712Z"
   },
   {
    "duration": 7,
    "start_time": "2024-11-12T18:43:24.723Z"
   },
   {
    "duration": 7,
    "start_time": "2024-11-12T18:43:24.732Z"
   },
   {
    "duration": 48,
    "start_time": "2024-11-12T18:43:24.741Z"
   },
   {
    "duration": 8,
    "start_time": "2024-11-12T18:43:24.791Z"
   },
   {
    "duration": 187,
    "start_time": "2024-11-12T18:43:24.800Z"
   },
   {
    "duration": 9,
    "start_time": "2024-11-12T18:43:24.988Z"
   },
   {
    "duration": 8,
    "start_time": "2024-11-12T18:44:46.012Z"
   },
   {
    "duration": 123,
    "start_time": "2024-11-12T18:45:01.702Z"
   },
   {
    "duration": 8,
    "start_time": "2024-11-12T18:45:14.485Z"
   },
   {
    "duration": 10,
    "start_time": "2024-11-12T18:45:33.776Z"
   },
   {
    "duration": 6,
    "start_time": "2024-11-12T18:45:46.573Z"
   },
   {
    "duration": 5,
    "start_time": "2024-11-12T18:45:47.947Z"
   },
   {
    "duration": 7,
    "start_time": "2024-11-12T18:45:49.036Z"
   },
   {
    "duration": 11,
    "start_time": "2024-11-12T18:45:57.441Z"
   },
   {
    "duration": 8,
    "start_time": "2024-11-12T18:46:04.615Z"
   },
   {
    "duration": 11,
    "start_time": "2024-11-12T18:46:12.833Z"
   },
   {
    "duration": 9,
    "start_time": "2024-11-12T18:46:21.067Z"
   },
   {
    "duration": 8,
    "start_time": "2024-11-12T18:46:31.371Z"
   },
   {
    "duration": 8,
    "start_time": "2024-11-12T18:46:38.404Z"
   },
   {
    "duration": 9,
    "start_time": "2024-11-12T18:46:45.966Z"
   },
   {
    "duration": 155,
    "start_time": "2024-11-12T18:46:50.689Z"
   },
   {
    "duration": 11,
    "start_time": "2024-11-12T18:47:40.183Z"
   },
   {
    "duration": 9,
    "start_time": "2024-11-12T18:49:41.075Z"
   },
   {
    "duration": 4,
    "start_time": "2024-11-12T18:59:49.610Z"
   },
   {
    "duration": 9,
    "start_time": "2024-11-12T19:06:13.198Z"
   },
   {
    "duration": 9,
    "start_time": "2024-11-12T19:07:15.611Z"
   },
   {
    "duration": 4,
    "start_time": "2024-11-12T19:09:22.615Z"
   },
   {
    "duration": 4,
    "start_time": "2024-11-12T19:12:49.487Z"
   },
   {
    "duration": 8,
    "start_time": "2024-11-13T13:04:51.510Z"
   },
   {
    "duration": 7,
    "start_time": "2024-11-13T13:20:45.339Z"
   },
   {
    "duration": 0,
    "start_time": "2024-11-13T13:20:45.347Z"
   },
   {
    "duration": 0,
    "start_time": "2024-11-13T13:20:45.348Z"
   },
   {
    "duration": 0,
    "start_time": "2024-11-13T13:20:45.350Z"
   },
   {
    "duration": 0,
    "start_time": "2024-11-13T13:20:45.351Z"
   },
   {
    "duration": 186,
    "start_time": "2024-11-13T13:20:45.354Z"
   },
   {
    "duration": 0,
    "start_time": "2024-11-13T13:20:45.542Z"
   },
   {
    "duration": 0,
    "start_time": "2024-11-13T13:20:45.543Z"
   },
   {
    "duration": 0,
    "start_time": "2024-11-13T13:20:45.544Z"
   },
   {
    "duration": 0,
    "start_time": "2024-11-13T13:20:45.545Z"
   },
   {
    "duration": 0,
    "start_time": "2024-11-13T13:20:45.546Z"
   },
   {
    "duration": 0,
    "start_time": "2024-11-13T13:20:45.547Z"
   },
   {
    "duration": 0,
    "start_time": "2024-11-13T13:20:45.548Z"
   },
   {
    "duration": 0,
    "start_time": "2024-11-13T13:20:45.549Z"
   },
   {
    "duration": 0,
    "start_time": "2024-11-13T13:20:45.549Z"
   },
   {
    "duration": 0,
    "start_time": "2024-11-13T13:20:45.551Z"
   },
   {
    "duration": 0,
    "start_time": "2024-11-13T13:20:45.552Z"
   },
   {
    "duration": 0,
    "start_time": "2024-11-13T13:20:45.554Z"
   },
   {
    "duration": 0,
    "start_time": "2024-11-13T13:20:45.556Z"
   },
   {
    "duration": 0,
    "start_time": "2024-11-13T13:20:45.557Z"
   },
   {
    "duration": 0,
    "start_time": "2024-11-13T13:20:45.559Z"
   },
   {
    "duration": 0,
    "start_time": "2024-11-13T13:20:45.560Z"
   },
   {
    "duration": 0,
    "start_time": "2024-11-13T13:20:45.562Z"
   },
   {
    "duration": 0,
    "start_time": "2024-11-13T13:20:45.563Z"
   },
   {
    "duration": 0,
    "start_time": "2024-11-13T13:20:45.563Z"
   },
   {
    "duration": 0,
    "start_time": "2024-11-13T13:20:45.565Z"
   },
   {
    "duration": 0,
    "start_time": "2024-11-13T13:20:45.567Z"
   },
   {
    "duration": 0,
    "start_time": "2024-11-13T13:20:45.568Z"
   },
   {
    "duration": 0,
    "start_time": "2024-11-13T13:20:45.569Z"
   },
   {
    "duration": 0,
    "start_time": "2024-11-13T13:20:45.570Z"
   },
   {
    "duration": 0,
    "start_time": "2024-11-13T13:20:45.571Z"
   },
   {
    "duration": 0,
    "start_time": "2024-11-13T13:20:45.573Z"
   },
   {
    "duration": 0,
    "start_time": "2024-11-13T13:20:45.574Z"
   },
   {
    "duration": 1,
    "start_time": "2024-11-13T13:20:45.624Z"
   },
   {
    "duration": 0,
    "start_time": "2024-11-13T13:20:45.626Z"
   },
   {
    "duration": 0,
    "start_time": "2024-11-13T13:20:45.627Z"
   },
   {
    "duration": 0,
    "start_time": "2024-11-13T13:20:45.628Z"
   },
   {
    "duration": 2510,
    "start_time": "2024-11-13T13:21:03.514Z"
   },
   {
    "duration": 50,
    "start_time": "2024-11-13T13:21:06.026Z"
   },
   {
    "duration": 17,
    "start_time": "2024-11-13T13:21:06.077Z"
   },
   {
    "duration": 31,
    "start_time": "2024-11-13T13:21:06.097Z"
   },
   {
    "duration": 14,
    "start_time": "2024-11-13T13:21:06.129Z"
   },
   {
    "duration": 23,
    "start_time": "2024-11-13T13:21:06.144Z"
   },
   {
    "duration": 18,
    "start_time": "2024-11-13T13:21:06.168Z"
   },
   {
    "duration": 143,
    "start_time": "2024-11-13T13:21:06.187Z"
   },
   {
    "duration": 220,
    "start_time": "2024-11-13T13:21:06.332Z"
   },
   {
    "duration": 4,
    "start_time": "2024-11-13T13:21:06.555Z"
   },
   {
    "duration": 16,
    "start_time": "2024-11-13T13:21:06.561Z"
   },
   {
    "duration": 6,
    "start_time": "2024-11-13T13:21:06.578Z"
   },
   {
    "duration": 139,
    "start_time": "2024-11-13T13:21:06.586Z"
   },
   {
    "duration": 255,
    "start_time": "2024-11-13T13:21:06.727Z"
   },
   {
    "duration": 343,
    "start_time": "2024-11-13T13:21:06.983Z"
   },
   {
    "duration": 344,
    "start_time": "2024-11-13T13:21:07.328Z"
   },
   {
    "duration": 7,
    "start_time": "2024-11-13T13:21:07.675Z"
   },
   {
    "duration": 127,
    "start_time": "2024-11-13T13:21:07.684Z"
   },
   {
    "duration": 12,
    "start_time": "2024-11-13T13:21:07.813Z"
   },
   {
    "duration": 151,
    "start_time": "2024-11-13T13:21:07.827Z"
   },
   {
    "duration": 10,
    "start_time": "2024-11-13T13:21:07.980Z"
   },
   {
    "duration": 5,
    "start_time": "2024-11-13T13:21:07.992Z"
   },
   {
    "duration": 5,
    "start_time": "2024-11-13T13:21:07.999Z"
   },
   {
    "duration": 25,
    "start_time": "2024-11-13T13:21:08.005Z"
   },
   {
    "duration": 10,
    "start_time": "2024-11-13T13:21:08.032Z"
   },
   {
    "duration": 7,
    "start_time": "2024-11-13T13:21:08.044Z"
   },
   {
    "duration": 7,
    "start_time": "2024-11-13T13:21:08.053Z"
   },
   {
    "duration": 7,
    "start_time": "2024-11-13T13:21:08.064Z"
   },
   {
    "duration": 8,
    "start_time": "2024-11-13T13:21:08.072Z"
   },
   {
    "duration": 48,
    "start_time": "2024-11-13T13:21:08.081Z"
   },
   {
    "duration": 9,
    "start_time": "2024-11-13T13:21:08.130Z"
   },
   {
    "duration": 160,
    "start_time": "2024-11-13T13:21:08.140Z"
   },
   {
    "duration": 10,
    "start_time": "2024-11-13T13:21:08.301Z"
   },
   {
    "duration": 13,
    "start_time": "2024-11-13T13:21:08.313Z"
   },
   {
    "duration": 8,
    "start_time": "2024-11-13T13:21:08.327Z"
   },
   {
    "duration": 5,
    "start_time": "2024-11-13T13:21:08.337Z"
   }
  ],
  "kernelspec": {
   "display_name": "Python 3 (ipykernel)",
   "language": "python",
   "name": "python3"
  },
  "language_info": {
   "codemirror_mode": {
    "name": "ipython",
    "version": 3
   },
   "file_extension": ".py",
   "mimetype": "text/x-python",
   "name": "python",
   "nbconvert_exporter": "python",
   "pygments_lexer": "ipython3",
   "version": "3.9.19"
  },
  "toc": {
   "base_numbering": 1,
   "nav_menu": {},
   "number_sections": true,
   "sideBar": true,
   "skip_h1_title": true,
   "title_cell": "Table of Contents",
   "title_sidebar": "Contents",
   "toc_cell": false,
   "toc_position": {},
   "toc_section_display": true,
   "toc_window_display": false
  }
 },
 "nbformat": 4,
 "nbformat_minor": 2
}
